{
 "cells": [
  {
   "cell_type": "markdown",
   "metadata": {},
   "source": [
    "# Analysis of Yelp Business Intelligence Data"
   ]
  },
  {
   "cell_type": "markdown",
   "metadata": {},
   "source": [
    "We will analyze a subset of Yelp's business, reviews and user data. This dataset comes to us from [Kaggle](https://www.kaggle.com/yelp-dataset/yelp-dataset) although we have taken steps to pull this data into a publis s3 bucket: `s3://sta9760-yelpdataset/yelp-light/*business.json`"
   ]
  },
  {
   "cell_type": "markdown",
   "metadata": {},
   "source": [
    "# Installation and Initial Setup"
   ]
  },
  {
   "cell_type": "markdown",
   "metadata": {},
   "source": [
    "Begin by installing the necessary libraries that you may need to conduct your analysis. At the very least, you must install `pandas` and `matplotlib`"
   ]
  },
  {
   "cell_type": "code",
   "execution_count": 1,
   "metadata": {},
   "outputs": [
    {
     "data": {
      "application/vnd.jupyter.widget-view+json": {
       "model_id": "180c384897ce433da13d5ede514e81f4",
       "version_major": 2,
       "version_minor": 0
      },
      "text/plain": [
       "VBox()"
      ]
     },
     "metadata": {},
     "output_type": "display_data"
    },
    {
     "name": "stdout",
     "output_type": "stream",
     "text": [
      "Starting Spark application\n"
     ]
    },
    {
     "data": {
      "text/html": [
       "<table>\n",
       "<tr><th>ID</th><th>YARN Application ID</th><th>Kind</th><th>State</th><th>Spark UI</th><th>Driver log</th><th>Current session?</th></tr><tr><td>5</td><td>application_1606229628628_0006</td><td>pyspark</td><td>idle</td><td><a target=\"_blank\" href=\"http://ip-172-31-17-116.ec2.internal:20888/proxy/application_1606229628628_0006/\">Link</a></td><td><a target=\"_blank\" href=\"http://ip-172-31-17-93.ec2.internal:8042/node/containerlogs/container_1606229628628_0006_01_000001/livy\">Link</a></td><td>✔</td></tr></table>"
      ],
      "text/plain": [
       "<IPython.core.display.HTML object>"
      ]
     },
     "metadata": {},
     "output_type": "display_data"
    },
    {
     "data": {
      "application/vnd.jupyter.widget-view+json": {
       "model_id": "",
       "version_major": 2,
       "version_minor": 0
      },
      "text/plain": [
       "FloatProgress(value=0.0, bar_style='info', description='Progress:', layout=Layout(height='25px', width='50%'),…"
      ]
     },
     "metadata": {},
     "output_type": "display_data"
    },
    {
     "name": "stdout",
     "output_type": "stream",
     "text": [
      "SparkSession available as 'spark'.\n"
     ]
    },
    {
     "data": {
      "application/vnd.jupyter.widget-view+json": {
       "model_id": "",
       "version_major": 2,
       "version_minor": 0
      },
      "text/plain": [
       "FloatProgress(value=0.0, bar_style='info', description='Progress:', layout=Layout(height='25px', width='50%'),…"
      ]
     },
     "metadata": {},
     "output_type": "display_data"
    },
    {
     "name": "stdout",
     "output_type": "stream",
     "text": [
      "Collecting matplotlib==3.2.1\n",
      "  Using cached https://files.pythonhosted.org/packages/b2/c2/71fcf957710f3ba1f09088b35776a799ba7dd95f7c2b195ec800933b276b/matplotlib-3.2.1-cp37-cp37m-manylinux1_x86_64.whl\n",
      "Collecting python-dateutil>=2.1 (from matplotlib==3.2.1)\n",
      "  Using cached https://files.pythonhosted.org/packages/d4/70/d60450c3dd48ef87586924207ae8907090de0b306af2bce5d134d78615cb/python_dateutil-2.8.1-py2.py3-none-any.whl\n",
      "Collecting pyparsing!=2.0.4,!=2.1.2,!=2.1.6,>=2.0.1 (from matplotlib==3.2.1)\n",
      "  Using cached https://files.pythonhosted.org/packages/8a/bb/488841f56197b13700afd5658fc279a2025a39e22449b7cf29864669b15d/pyparsing-2.4.7-py2.py3-none-any.whl\n",
      "Collecting cycler>=0.10 (from matplotlib==3.2.1)\n",
      "  Using cached https://files.pythonhosted.org/packages/f7/d2/e07d3ebb2bd7af696440ce7e754c59dd546ffe1bbe732c8ab68b9c834e61/cycler-0.10.0-py2.py3-none-any.whl\n",
      "Requirement already satisfied: numpy>=1.11 in /usr/local/lib64/python3.7/site-packages (from matplotlib==3.2.1)\n",
      "Collecting kiwisolver>=1.0.1 (from matplotlib==3.2.1)\n",
      "  Using cached https://files.pythonhosted.org/packages/d2/46/231de802ade4225b76b96cffe419cf3ce52bbe92e3b092cf12db7d11c207/kiwisolver-1.3.1-cp37-cp37m-manylinux1_x86_64.whl\n",
      "Requirement already satisfied: six>=1.5 in /usr/local/lib/python3.7/site-packages (from python-dateutil>=2.1->matplotlib==3.2.1)\n",
      "Installing collected packages: python-dateutil, pyparsing, cycler, kiwisolver, matplotlib\n",
      "Successfully installed cycler-0.10.0 kiwisolver-1.3.1 matplotlib-3.2.1 pyparsing-2.4.7 python-dateutil-2.8.1\n",
      "\n",
      "Collecting pandas==1.0.3\n",
      "  Using cached https://files.pythonhosted.org/packages/4a/6a/94b219b8ea0f2d580169e85ed1edc0163743f55aaeca8a44c2e8fc1e344e/pandas-1.0.3-cp37-cp37m-manylinux1_x86_64.whl\n",
      "Requirement already satisfied: pytz>=2017.2 in /usr/local/lib/python3.7/site-packages (from pandas==1.0.3)\n",
      "Requirement already satisfied: numpy>=1.13.3 in /usr/local/lib64/python3.7/site-packages (from pandas==1.0.3)\n",
      "Requirement already satisfied: python-dateutil>=2.6.1 in /mnt/tmp/1606243180516-0/lib/python3.7/site-packages (from pandas==1.0.3)\n",
      "Requirement already satisfied: six>=1.5 in /usr/local/lib/python3.7/site-packages (from python-dateutil>=2.6.1->pandas==1.0.3)\n",
      "Installing collected packages: pandas\n",
      "Successfully installed pandas-1.0.3\n",
      "\n",
      "Collecting seaborn==0.11.0\n",
      "  Using cached https://files.pythonhosted.org/packages/bc/45/5118a05b0d61173e6eb12bc5804f0fbb6f196adb0a20e0b16efc2b8e98be/seaborn-0.11.0-py3-none-any.whl\n",
      "Requirement already satisfied: numpy>=1.15 in /usr/local/lib64/python3.7/site-packages (from seaborn==0.11.0)\n",
      "Collecting scipy>=1.0 (from seaborn==0.11.0)\n",
      "  Using cached https://files.pythonhosted.org/packages/dc/7e/8f6a79b102ca1ea928bae8998b05bf5dc24a90571db13cd119f275ba6252/scipy-1.5.4-cp37-cp37m-manylinux1_x86_64.whl\n",
      "Requirement already satisfied: matplotlib>=2.2 in /mnt/tmp/1606243180516-0/lib/python3.7/site-packages (from seaborn==0.11.0)\n",
      "Requirement already satisfied: pandas>=0.23 in /mnt/tmp/1606243180516-0/lib/python3.7/site-packages (from seaborn==0.11.0)\n",
      "Requirement already satisfied: python-dateutil>=2.1 in /mnt/tmp/1606243180516-0/lib/python3.7/site-packages (from matplotlib>=2.2->seaborn==0.11.0)\n",
      "Requirement already satisfied: pyparsing!=2.0.4,!=2.1.2,!=2.1.6,>=2.0.1 in /mnt/tmp/1606243180516-0/lib/python3.7/site-packages (from matplotlib>=2.2->seaborn==0.11.0)\n",
      "Requirement already satisfied: cycler>=0.10 in /mnt/tmp/1606243180516-0/lib/python3.7/site-packages (from matplotlib>=2.2->seaborn==0.11.0)\n",
      "Requirement already satisfied: kiwisolver>=1.0.1 in /mnt/tmp/1606243180516-0/lib/python3.7/site-packages (from matplotlib>=2.2->seaborn==0.11.0)\n",
      "Requirement already satisfied: pytz>=2017.2 in /usr/local/lib/python3.7/site-packages (from pandas>=0.23->seaborn==0.11.0)\n",
      "Requirement already satisfied: six>=1.5 in /usr/local/lib/python3.7/site-packages (from python-dateutil>=2.1->matplotlib>=2.2->seaborn==0.11.0)\n",
      "Installing collected packages: scipy, seaborn\n",
      "Successfully installed scipy-1.5.4 seaborn-0.11.0\n",
      "\n",
      "Requirement already satisfied: scipy==1.5.4 in /mnt/tmp/1606243180516-0/lib/python3.7/site-packages\n",
      "Requirement already satisfied: numpy>=1.14.5 in /usr/local/lib64/python3.7/site-packages (from scipy==1.5.4)"
     ]
    }
   ],
   "source": [
    "sc.install_pypi_package(\"matplotlib==3.2.1\")\n",
    "sc.install_pypi_package(\"pandas==1.0.3\")\n",
    "sc.install_pypi_package(\"seaborn==0.11.0\")\n",
    "sc.install_pypi_package(\"scipy==1.5.4\")"
   ]
  },
  {
   "cell_type": "markdown",
   "metadata": {},
   "source": [
    "## Importing"
   ]
  },
  {
   "cell_type": "markdown",
   "metadata": {},
   "source": [
    "Now, import the installed packages from the previous block below."
   ]
  },
  {
   "cell_type": "code",
   "execution_count": 50,
   "metadata": {},
   "outputs": [
    {
     "data": {
      "application/vnd.jupyter.widget-view+json": {
       "model_id": "1c46afbb3ee244c198bc16b59550d4c9",
       "version_major": 2,
       "version_minor": 0
      },
      "text/plain": [
       "VBox()"
      ]
     },
     "metadata": {},
     "output_type": "display_data"
    },
    {
     "data": {
      "application/vnd.jupyter.widget-view+json": {
       "model_id": "",
       "version_major": 2,
       "version_minor": 0
      },
      "text/plain": [
       "FloatProgress(value=0.0, bar_style='info', description='Progress:', layout=Layout(height='25px', width='50%'),…"
      ]
     },
     "metadata": {},
     "output_type": "display_data"
    }
   ],
   "source": [
    "import pandas as pd\n",
    "import numpy as np\n",
    "import seaborn as sns\n",
    "import matplotlib.pyplot as plt\n",
    "from scipy import stats"
   ]
  },
  {
   "cell_type": "markdown",
   "metadata": {},
   "source": [
    "## Loading Data"
   ]
  },
  {
   "cell_type": "markdown",
   "metadata": {},
   "source": [
    "We are finally ready to load data. Using `spark` load the data from S3 into a `dataframe` object that we can manipulate further down in our analysis."
   ]
  },
  {
   "cell_type": "code",
   "execution_count": 3,
   "metadata": {},
   "outputs": [
    {
     "data": {
      "application/vnd.jupyter.widget-view+json": {
       "model_id": "715dc43d46e04d78adecd57ba6138f22",
       "version_major": 2,
       "version_minor": 0
      },
      "text/plain": [
       "VBox()"
      ]
     },
     "metadata": {},
     "output_type": "display_data"
    },
    {
     "data": {
      "application/vnd.jupyter.widget-view+json": {
       "model_id": "",
       "version_major": 2,
       "version_minor": 0
      },
      "text/plain": [
       "FloatProgress(value=0.0, bar_style='info', description='Progress:', layout=Layout(height='25px', width='50%'),…"
      ]
     },
     "metadata": {},
     "output_type": "display_data"
    }
   ],
   "source": [
    "business = spark.read.json('s3://sta9760-project2-yelpdataset/yelp_academic_dataset_business.json')"
   ]
  },
  {
   "cell_type": "markdown",
   "metadata": {},
   "source": [
    "## Overview of Data"
   ]
  },
  {
   "cell_type": "markdown",
   "metadata": {},
   "source": [
    "Display the number of rows and columns in our dataset."
   ]
  },
  {
   "cell_type": "code",
   "execution_count": 4,
   "metadata": {},
   "outputs": [
    {
     "data": {
      "application/vnd.jupyter.widget-view+json": {
       "model_id": "f393649f48074ae3af1f0a6c3640a0dd",
       "version_major": 2,
       "version_minor": 0
      },
      "text/plain": [
       "VBox()"
      ]
     },
     "metadata": {},
     "output_type": "display_data"
    },
    {
     "data": {
      "application/vnd.jupyter.widget-view+json": {
       "model_id": "",
       "version_major": 2,
       "version_minor": 0
      },
      "text/plain": [
       "FloatProgress(value=0.0, bar_style='info', description='Progress:', layout=Layout(height='25px', width='50%'),…"
      ]
     },
     "metadata": {},
     "output_type": "display_data"
    },
    {
     "name": "stdout",
     "output_type": "stream",
     "text": [
      "Columns: 14 | Rows: 209393"
     ]
    }
   ],
   "source": [
    "num_rows = business.count()\n",
    "num_cols = len(business.columns)\n",
    "print('Columns:', num_cols, \"| Rows:\", num_rows)"
   ]
  },
  {
   "cell_type": "markdown",
   "metadata": {},
   "source": [
    "Display the DataFrame schema below."
   ]
  },
  {
   "cell_type": "code",
   "execution_count": 5,
   "metadata": {},
   "outputs": [
    {
     "data": {
      "application/vnd.jupyter.widget-view+json": {
       "model_id": "2f83a96fc4fd4407909a5dd5cef50422",
       "version_major": 2,
       "version_minor": 0
      },
      "text/plain": [
       "VBox()"
      ]
     },
     "metadata": {},
     "output_type": "display_data"
    },
    {
     "data": {
      "application/vnd.jupyter.widget-view+json": {
       "model_id": "",
       "version_major": 2,
       "version_minor": 0
      },
      "text/plain": [
       "FloatProgress(value=0.0, bar_style='info', description='Progress:', layout=Layout(height='25px', width='50%'),…"
      ]
     },
     "metadata": {},
     "output_type": "display_data"
    },
    {
     "name": "stdout",
     "output_type": "stream",
     "text": [
      "root\n",
      " |-- address: string (nullable = true)\n",
      " |-- attributes: struct (nullable = true)\n",
      " |    |-- AcceptsInsurance: string (nullable = true)\n",
      " |    |-- AgesAllowed: string (nullable = true)\n",
      " |    |-- Alcohol: string (nullable = true)\n",
      " |    |-- Ambience: string (nullable = true)\n",
      " |    |-- BYOB: string (nullable = true)\n",
      " |    |-- BYOBCorkage: string (nullable = true)\n",
      " |    |-- BestNights: string (nullable = true)\n",
      " |    |-- BikeParking: string (nullable = true)\n",
      " |    |-- BusinessAcceptsBitcoin: string (nullable = true)\n",
      " |    |-- BusinessAcceptsCreditCards: string (nullable = true)\n",
      " |    |-- BusinessParking: string (nullable = true)\n",
      " |    |-- ByAppointmentOnly: string (nullable = true)\n",
      " |    |-- Caters: string (nullable = true)\n",
      " |    |-- CoatCheck: string (nullable = true)\n",
      " |    |-- Corkage: string (nullable = true)\n",
      " |    |-- DietaryRestrictions: string (nullable = true)\n",
      " |    |-- DogsAllowed: string (nullable = true)\n",
      " |    |-- DriveThru: string (nullable = true)\n",
      " |    |-- GoodForDancing: string (nullable = true)\n",
      " |    |-- GoodForKids: string (nullable = true)\n",
      " |    |-- GoodForMeal: string (nullable = true)\n",
      " |    |-- HairSpecializesIn: string (nullable = true)\n",
      " |    |-- HappyHour: string (nullable = true)\n",
      " |    |-- HasTV: string (nullable = true)\n",
      " |    |-- Music: string (nullable = true)\n",
      " |    |-- NoiseLevel: string (nullable = true)\n",
      " |    |-- Open24Hours: string (nullable = true)\n",
      " |    |-- OutdoorSeating: string (nullable = true)\n",
      " |    |-- RestaurantsAttire: string (nullable = true)\n",
      " |    |-- RestaurantsCounterService: string (nullable = true)\n",
      " |    |-- RestaurantsDelivery: string (nullable = true)\n",
      " |    |-- RestaurantsGoodForGroups: string (nullable = true)\n",
      " |    |-- RestaurantsPriceRange2: string (nullable = true)\n",
      " |    |-- RestaurantsReservations: string (nullable = true)\n",
      " |    |-- RestaurantsTableService: string (nullable = true)\n",
      " |    |-- RestaurantsTakeOut: string (nullable = true)\n",
      " |    |-- Smoking: string (nullable = true)\n",
      " |    |-- WheelchairAccessible: string (nullable = true)\n",
      " |    |-- WiFi: string (nullable = true)\n",
      " |-- business_id: string (nullable = true)\n",
      " |-- categories: string (nullable = true)\n",
      " |-- city: string (nullable = true)\n",
      " |-- hours: struct (nullable = true)\n",
      " |    |-- Friday: string (nullable = true)\n",
      " |    |-- Monday: string (nullable = true)\n",
      " |    |-- Saturday: string (nullable = true)\n",
      " |    |-- Sunday: string (nullable = true)\n",
      " |    |-- Thursday: string (nullable = true)\n",
      " |    |-- Tuesday: string (nullable = true)\n",
      " |    |-- Wednesday: string (nullable = true)\n",
      " |-- is_open: long (nullable = true)\n",
      " |-- latitude: double (nullable = true)\n",
      " |-- longitude: double (nullable = true)\n",
      " |-- name: string (nullable = true)\n",
      " |-- postal_code: string (nullable = true)\n",
      " |-- review_count: long (nullable = true)\n",
      " |-- stars: double (nullable = true)\n",
      " |-- state: string (nullable = true)"
     ]
    }
   ],
   "source": [
    "business.printSchema()"
   ]
  },
  {
   "cell_type": "markdown",
   "metadata": {},
   "source": [
    "Display the first 5 rows with the following columns:\n",
    "\n",
    "* `business_id`\n",
    "* `name`\n",
    "* `city`\n",
    "* `state`\n",
    "* `categories`"
   ]
  },
  {
   "cell_type": "code",
   "execution_count": 6,
   "metadata": {
    "scrolled": true
   },
   "outputs": [
    {
     "data": {
      "application/vnd.jupyter.widget-view+json": {
       "model_id": "73841d49e74145f8a846735c44468d0a",
       "version_major": 2,
       "version_minor": 0
      },
      "text/plain": [
       "VBox()"
      ]
     },
     "metadata": {},
     "output_type": "display_data"
    },
    {
     "data": {
      "application/vnd.jupyter.widget-view+json": {
       "model_id": "",
       "version_major": 2,
       "version_minor": 0
      },
      "text/plain": [
       "FloatProgress(value=0.0, bar_style='info', description='Progress:', layout=Layout(height='25px', width='50%'),…"
      ]
     },
     "metadata": {},
     "output_type": "display_data"
    },
    {
     "name": "stdout",
     "output_type": "stream",
     "text": [
      "+--------------------+--------------------+---------------+-----+--------------------+\n",
      "|         business_id|                name|           city|state|          categories|\n",
      "+--------------------+--------------------+---------------+-----+--------------------+\n",
      "|f9NumwFMBDn751xgF...|The Range At Lake...|      Cornelius|   NC|Active Life, Gun/...|\n",
      "|Yzvjg0SayhoZgCljU...|   Carlos Santo, NMD|     Scottsdale|   AZ|Health & Medical,...|\n",
      "|XNoUzKckATkOD1hP6...|             Felinus|       Montreal|   QC|Pets, Pet Service...|\n",
      "|6OAZjbxqM5ol29BuH...|Nevada House of Hose|North Las Vegas|   NV|Hardware Stores, ...|\n",
      "|51M2Kk903DFYI6gnB...|USE MY GUY SERVIC...|           Mesa|   AZ|Home Services, Pl...|\n",
      "+--------------------+--------------------+---------------+-----+--------------------+\n",
      "only showing top 5 rows"
     ]
    }
   ],
   "source": [
    "business.select(\"business_id\", \"name\", \"city\", \"state\", \"categories\").show(5)"
   ]
  },
  {
   "cell_type": "markdown",
   "metadata": {},
   "source": [
    "# Analyzing Categories"
   ]
  },
  {
   "cell_type": "markdown",
   "metadata": {},
   "source": [
    "Let's now answer this question: **how many unique categories are represented in this dataset?**\n",
    "\n",
    "Essentially, we have the categories per business as a list - this is useful to quickly see what each business might be represented as but it is difficult to easily answer questions such as:\n",
    "\n",
    "* How many businesses are categorized as `Active Life`, for instance\n",
    "* What are the top 20 most popular categories available?"
   ]
  },
  {
   "cell_type": "markdown",
   "metadata": {},
   "source": [
    "## Association Table\n",
    "\n",
    "We need to \"break out\" these categories from the business ids? One common approach to take is to build an association table mapping a single business id multiple times to each distinct category.\n",
    "\n",
    "For instance, given the following:\n",
    "\n",
    "\n",
    "| business_id | categories |\n",
    "|-------------|------------|\n",
    "| abcd123     | a,b,c      |\n",
    "\n",
    "We would like to derive something like:\n",
    "\n",
    "| business_id | category |\n",
    "|-------------|------------|\n",
    "| abcd123     | a          |\n",
    "| abcd123     | b          |\n",
    "| abcd123     | c          |\n",
    "\n",
    "\n",
    "What this does is allow us to then perform a myriad of rollups and other analysis on this association table which can aid us in answering the questions asked above.\n",
    "\n",
    "Implement the code necessary to derive the table described from your original yelp dataframe."
   ]
  },
  {
   "cell_type": "code",
   "execution_count": 7,
   "metadata": {},
   "outputs": [
    {
     "data": {
      "application/vnd.jupyter.widget-view+json": {
       "model_id": "9db354beb4214c0cbb03669e31a36fcd",
       "version_major": 2,
       "version_minor": 0
      },
      "text/plain": [
       "VBox()"
      ]
     },
     "metadata": {},
     "output_type": "display_data"
    },
    {
     "data": {
      "application/vnd.jupyter.widget-view+json": {
       "model_id": "",
       "version_major": 2,
       "version_minor": 0
      },
      "text/plain": [
       "FloatProgress(value=0.0, bar_style='info', description='Progress:', layout=Layout(height='25px', width='50%'),…"
      ]
     },
     "metadata": {},
     "output_type": "display_data"
    }
   ],
   "source": [
    "from pyspark.sql.functions import explode, split"
   ]
  },
  {
   "cell_type": "code",
   "execution_count": 8,
   "metadata": {},
   "outputs": [
    {
     "data": {
      "application/vnd.jupyter.widget-view+json": {
       "model_id": "a12468d808ae433c879751912d6eab95",
       "version_major": 2,
       "version_minor": 0
      },
      "text/plain": [
       "VBox()"
      ]
     },
     "metadata": {},
     "output_type": "display_data"
    },
    {
     "data": {
      "application/vnd.jupyter.widget-view+json": {
       "model_id": "",
       "version_major": 2,
       "version_minor": 0
      },
      "text/plain": [
       "FloatProgress(value=0.0, bar_style='info', description='Progress:', layout=Layout(height='25px', width='50%'),…"
      ]
     },
     "metadata": {},
     "output_type": "display_data"
    }
   ],
   "source": [
    "business_categories = business.select(\"business_id\", \"categories\")\n",
    "business_categories_exploded = business_categories.withColumn('categories', explode(split('categories', \", \")))"
   ]
  },
  {
   "cell_type": "markdown",
   "metadata": {},
   "source": [
    "Display the first 5 rows of your association table below."
   ]
  },
  {
   "cell_type": "code",
   "execution_count": 9,
   "metadata": {},
   "outputs": [
    {
     "data": {
      "application/vnd.jupyter.widget-view+json": {
       "model_id": "c98c02bdfbb44d738602125386d6cee0",
       "version_major": 2,
       "version_minor": 0
      },
      "text/plain": [
       "VBox()"
      ]
     },
     "metadata": {},
     "output_type": "display_data"
    },
    {
     "data": {
      "application/vnd.jupyter.widget-view+json": {
       "model_id": "",
       "version_major": 2,
       "version_minor": 0
      },
      "text/plain": [
       "FloatProgress(value=0.0, bar_style='info', description='Progress:', layout=Layout(height='25px', width='50%'),…"
      ]
     },
     "metadata": {},
     "output_type": "display_data"
    },
    {
     "name": "stdout",
     "output_type": "stream",
     "text": [
      "+--------------------+----------------+\n",
      "|         business_id|      categories|\n",
      "+--------------------+----------------+\n",
      "|f9NumwFMBDn751xgF...|     Active Life|\n",
      "|f9NumwFMBDn751xgF...|Gun/Rifle Ranges|\n",
      "|f9NumwFMBDn751xgF...|     Guns & Ammo|\n",
      "|f9NumwFMBDn751xgF...|        Shopping|\n",
      "|Yzvjg0SayhoZgCljU...|Health & Medical|\n",
      "+--------------------+----------------+\n",
      "only showing top 5 rows"
     ]
    }
   ],
   "source": [
    "business_categories_exploded.show(5)"
   ]
  },
  {
   "cell_type": "markdown",
   "metadata": {},
   "source": [
    "## Total Unique Categories\n",
    "\n",
    "Finally, we are ready to answer the question: **what is the total number of unique categories available?**\n",
    "\n",
    "Below, implement the code necessary to calculate this figure."
   ]
  },
  {
   "cell_type": "code",
   "execution_count": 10,
   "metadata": {},
   "outputs": [
    {
     "data": {
      "application/vnd.jupyter.widget-view+json": {
       "model_id": "53517e8d792b426f8dcf744d44623e64",
       "version_major": 2,
       "version_minor": 0
      },
      "text/plain": [
       "VBox()"
      ]
     },
     "metadata": {},
     "output_type": "display_data"
    },
    {
     "data": {
      "application/vnd.jupyter.widget-view+json": {
       "model_id": "",
       "version_major": 2,
       "version_minor": 0
      },
      "text/plain": [
       "FloatProgress(value=0.0, bar_style='info', description='Progress:', layout=Layout(height='25px', width='50%'),…"
      ]
     },
     "metadata": {},
     "output_type": "display_data"
    },
    {
     "name": "stdout",
     "output_type": "stream",
     "text": [
      "1336"
     ]
    }
   ],
   "source": [
    "business_categories_exploded.select('categories').distinct().count()"
   ]
  },
  {
   "cell_type": "markdown",
   "metadata": {},
   "source": [
    "## Top Categories By Business\n",
    "\n",
    "Now let's find the top categories in this dataset by rolling up categories."
   ]
  },
  {
   "cell_type": "markdown",
   "metadata": {},
   "source": [
    "### Counts of Businesses / Category"
   ]
  },
  {
   "cell_type": "markdown",
   "metadata": {},
   "source": [
    "So now, let's unroll our distinct count a bit and display the per count value of businesses per category.\n",
    "\n",
    "The expected output should be:\n",
    "\n",
    "| category | count |\n",
    "|-------------|------------|\n",
    "| a     | 15         |\n",
    "| b     | 2          |\n",
    "| c     | 45          |\n",
    "\n",
    "Or something to that effect."
   ]
  },
  {
   "cell_type": "code",
   "execution_count": 11,
   "metadata": {},
   "outputs": [
    {
     "data": {
      "application/vnd.jupyter.widget-view+json": {
       "model_id": "c929b46e867c48a98dcd7c91d1458bba",
       "version_major": 2,
       "version_minor": 0
      },
      "text/plain": [
       "VBox()"
      ]
     },
     "metadata": {},
     "output_type": "display_data"
    },
    {
     "data": {
      "application/vnd.jupyter.widget-view+json": {
       "model_id": "",
       "version_major": 2,
       "version_minor": 0
      },
      "text/plain": [
       "FloatProgress(value=0.0, bar_style='info', description='Progress:', layout=Layout(height='25px', width='50%'),…"
      ]
     },
     "metadata": {},
     "output_type": "display_data"
    },
    {
     "name": "stdout",
     "output_type": "stream",
     "text": [
      "+--------------------+-----+\n",
      "|          categories|count|\n",
      "+--------------------+-----+\n",
      "|      Paddleboarding|   36|\n",
      "|      Dermatologists|  341|\n",
      "|        Aerial Tours|   28|\n",
      "|         Hobby Shops|  828|\n",
      "|          Bubble Tea|  720|\n",
      "|             Embassy|   13|\n",
      "|             Tanning|  938|\n",
      "|            Handyman|  682|\n",
      "|      Aerial Fitness|   29|\n",
      "|             Falafel|  159|\n",
      "|       Outlet Stores|  399|\n",
      "|        Summer Camps|  318|\n",
      "|     Clothing Rental|   55|\n",
      "|      Sporting Goods| 2311|\n",
      "|     Cooking Schools|  118|\n",
      "|  College Counseling|   15|\n",
      "|  Lactation Services|   50|\n",
      "|Ski & Snowboard S...|   50|\n",
      "|             Museums|  359|\n",
      "|              Doulas|   45|\n",
      "+--------------------+-----+\n",
      "only showing top 20 rows"
     ]
    }
   ],
   "source": [
    "business_categories_exploded.groupby('categories').count().show()"
   ]
  },
  {
   "cell_type": "markdown",
   "metadata": {},
   "source": [
    "### Bar Chart of Top Categories\n",
    "\n",
    "With this data available, let us now build a barchart of the top 20 categories. \n",
    "\n",
    "**HINT**: don't forget about the matplotlib magic!\n",
    "\n",
    "```\n",
    "%matplot plt\n",
    "```"
   ]
  },
  {
   "cell_type": "code",
   "execution_count": 12,
   "metadata": {},
   "outputs": [
    {
     "data": {
      "application/vnd.jupyter.widget-view+json": {
       "model_id": "60ed883b3ef94acfbc1de36adad86ac0",
       "version_major": 2,
       "version_minor": 0
      },
      "text/plain": [
       "VBox()"
      ]
     },
     "metadata": {},
     "output_type": "display_data"
    },
    {
     "data": {
      "application/vnd.jupyter.widget-view+json": {
       "model_id": "",
       "version_major": 2,
       "version_minor": 0
      },
      "text/plain": [
       "FloatProgress(value=0.0, bar_style='info', description='Progress:', layout=Layout(height='25px', width='50%'),…"
      ]
     },
     "metadata": {},
     "output_type": "display_data"
    }
   ],
   "source": [
    "barchart_business = business_categories_exploded.groupby('categories').count().orderBy('count', ascending=False)\n",
    "pdf = barchart_business.limit(20).toPandas()"
   ]
  },
  {
   "cell_type": "code",
   "execution_count": 13,
   "metadata": {},
   "outputs": [
    {
     "data": {
      "application/vnd.jupyter.widget-view+json": {
       "model_id": "8246e2c4689c41afb88aa963bba73a6b",
       "version_major": 2,
       "version_minor": 0
      },
      "text/plain": [
       "VBox()"
      ]
     },
     "metadata": {},
     "output_type": "display_data"
    },
    {
     "data": {
      "application/vnd.jupyter.widget-view+json": {
       "model_id": "",
       "version_major": 2,
       "version_minor": 0
      },
      "text/plain": [
       "FloatProgress(value=0.0, bar_style='info', description='Progress:', layout=Layout(height='25px', width='50%'),…"
      ]
     },
     "metadata": {},
     "output_type": "display_data"
    },
    {
     "data": {
      "image/png": "[encoded data removed]",
      "text/plain": [
       "<IPython.core.display.Image object>"
      ]
     },
     "metadata": {},
     "output_type": "display_data"
    }
   ],
   "source": [
    "pdf = pdf.sort_values('count', ascending=True)\n",
    "pdf.plot(kind='barh', x='categories', y='count', figsize=(18, 8))\n",
    "plt.title('Top Categories by Business')\n",
    "plt.xlabel('count')\n",
    "plt.ylabel('category')\n",
    "\n",
    "%matplot plt"
   ]
  },
  {
   "cell_type": "markdown",
   "metadata": {},
   "source": [
    "# Do Yelp Reviews Skew Negative?\n",
    "\n",
    "Oftentimes, it is said that the only people who write a written review are those who are extremely _dissatisfied_ or extremely _satisfied_ with the service received. \n",
    "\n",
    "How true is this really? Let's try and answer this question."
   ]
  },
  {
   "cell_type": "markdown",
   "metadata": {},
   "source": [
    "## Loading User Data\n",
    "\n",
    "Begin by loading the user data set from S3 and printing schema to determine what data is available."
   ]
  },
  {
   "cell_type": "code",
   "execution_count": 14,
   "metadata": {},
   "outputs": [
    {
     "data": {
      "application/vnd.jupyter.widget-view+json": {
       "model_id": "8b8ac59aca8442f8a25d1bf7f160314c",
       "version_major": 2,
       "version_minor": 0
      },
      "text/plain": [
       "VBox()"
      ]
     },
     "metadata": {},
     "output_type": "display_data"
    },
    {
     "data": {
      "application/vnd.jupyter.widget-view+json": {
       "model_id": "",
       "version_major": 2,
       "version_minor": 0
      },
      "text/plain": [
       "FloatProgress(value=0.0, bar_style='info', description='Progress:', layout=Layout(height='25px', width='50%'),…"
      ]
     },
     "metadata": {},
     "output_type": "display_data"
    },
    {
     "name": "stdout",
     "output_type": "stream",
     "text": [
      "root\n",
      " |-- business_id: string (nullable = true)\n",
      " |-- cool: long (nullable = true)\n",
      " |-- date: string (nullable = true)\n",
      " |-- funny: long (nullable = true)\n",
      " |-- review_id: string (nullable = true)\n",
      " |-- stars: double (nullable = true)\n",
      " |-- text: string (nullable = true)\n",
      " |-- useful: long (nullable = true)\n",
      " |-- user_id: string (nullable = true)"
     ]
    }
   ],
   "source": [
    "review = spark.read.json('s3://sta9760-project2-yelpdataset/yelp_academic_dataset_review.json')\n",
    "review.printSchema()"
   ]
  },
  {
   "cell_type": "markdown",
   "metadata": {},
   "source": [
    "Let's begin by listing the `business_id` and `stars` columns together for the user reviews data."
   ]
  },
  {
   "cell_type": "code",
   "execution_count": 15,
   "metadata": {},
   "outputs": [
    {
     "data": {
      "application/vnd.jupyter.widget-view+json": {
       "model_id": "465dea60bdfc424e936729d78178055d",
       "version_major": 2,
       "version_minor": 0
      },
      "text/plain": [
       "VBox()"
      ]
     },
     "metadata": {},
     "output_type": "display_data"
    },
    {
     "data": {
      "application/vnd.jupyter.widget-view+json": {
       "model_id": "",
       "version_major": 2,
       "version_minor": 0
      },
      "text/plain": [
       "FloatProgress(value=0.0, bar_style='info', description='Progress:', layout=Layout(height='25px', width='50%'),…"
      ]
     },
     "metadata": {},
     "output_type": "display_data"
    },
    {
     "name": "stdout",
     "output_type": "stream",
     "text": [
      "+--------------------+-----+\n",
      "|         business_id|stars|\n",
      "+--------------------+-----+\n",
      "|-MhfebM0QIsKt87iD...|  2.0|\n",
      "|lbrU8StCq3yDfr-QM...|  1.0|\n",
      "|HQl28KMwrEKHqhFrr...|  5.0|\n",
      "|5JxlZaqCnk1MnbgRi...|  1.0|\n",
      "|IS4cv902ykd8wj1TR...|  4.0|\n",
      "+--------------------+-----+\n",
      "only showing top 5 rows"
     ]
    }
   ],
   "source": [
    "review.select('business_id', 'stars').show(5)"
   ]
  },
  {
   "cell_type": "markdown",
   "metadata": {},
   "source": [
    "Now, let's aggregate along the `stars` column to get a resultant dataframe that displays _average stars_ per business as accumulated by users who **took the time to submit a written review**."
   ]
  },
  {
   "cell_type": "code",
   "execution_count": 16,
   "metadata": {},
   "outputs": [
    {
     "data": {
      "application/vnd.jupyter.widget-view+json": {
       "model_id": "5996c3163e8e4afa9cc93906e09020b6",
       "version_major": 2,
       "version_minor": 0
      },
      "text/plain": [
       "VBox()"
      ]
     },
     "metadata": {},
     "output_type": "display_data"
    },
    {
     "data": {
      "application/vnd.jupyter.widget-view+json": {
       "model_id": "",
       "version_major": 2,
       "version_minor": 0
      },
      "text/plain": [
       "FloatProgress(value=0.0, bar_style='info', description='Progress:', layout=Layout(height='25px', width='50%'),…"
      ]
     },
     "metadata": {},
     "output_type": "display_data"
    },
    {
     "name": "stdout",
     "output_type": "stream",
     "text": [
      "+--------------------+------------------+\n",
      "|         business_id|        avg(stars)|\n",
      "+--------------------+------------------+\n",
      "|VHsNB3pdGVcRgs6C3...| 3.411764705882353|\n",
      "|RMjCnixEY5i12Ciqn...|3.5316455696202533|\n",
      "|ipFreSFhjClfNETuM...|               2.6|\n",
      "|dLDMU8bOLnkDTmPUr...| 4.942857142857143|\n",
      "|Qm2datcYBPXrPATVG...| 4.352941176470588|\n",
      "+--------------------+------------------+\n",
      "only showing top 5 rows"
     ]
    }
   ],
   "source": [
    "from pyspark.sql.functions import length\n",
    "from pyspark.sql.functions import col\n",
    "\n",
    "written_reviews = review.select('business_id', 'user_id', 'stars', 'text').where(length(col(\"text\")) > 0)\n",
    "avg_stars = written_reviews.groupby(\"business_id\").avg(\"stars\")\n",
    "avg_stars.show(5)"
   ]
  },
  {
   "cell_type": "markdown",
   "metadata": {},
   "source": [
    "Now the fun part - let's join our two dataframes (reviews and business data) by `business_id`. "
   ]
  },
  {
   "cell_type": "code",
   "execution_count": 17,
   "metadata": {},
   "outputs": [
    {
     "data": {
      "application/vnd.jupyter.widget-view+json": {
       "model_id": "88873b2c328041ba877df0ded94b4fe9",
       "version_major": 2,
       "version_minor": 0
      },
      "text/plain": [
       "VBox()"
      ]
     },
     "metadata": {},
     "output_type": "display_data"
    },
    {
     "data": {
      "application/vnd.jupyter.widget-view+json": {
       "model_id": "",
       "version_major": 2,
       "version_minor": 0
      },
      "text/plain": [
       "FloatProgress(value=0.0, bar_style='info', description='Progress:', layout=Layout(height='25px', width='50%'),…"
      ]
     },
     "metadata": {},
     "output_type": "display_data"
    }
   ],
   "source": [
    "business = business.join(avg_stars, 'business_id', 'inner')"
   ]
  },
  {
   "cell_type": "markdown",
   "metadata": {},
   "source": [
    "Let's see a few of these:"
   ]
  },
  {
   "cell_type": "code",
   "execution_count": 18,
   "metadata": {},
   "outputs": [
    {
     "data": {
      "application/vnd.jupyter.widget-view+json": {
       "model_id": "faecb7079994475cb06de61030a7f646",
       "version_major": 2,
       "version_minor": 0
      },
      "text/plain": [
       "VBox()"
      ]
     },
     "metadata": {},
     "output_type": "display_data"
    },
    {
     "data": {
      "application/vnd.jupyter.widget-view+json": {
       "model_id": "",
       "version_major": 2,
       "version_minor": 0
      },
      "text/plain": [
       "FloatProgress(value=0.0, bar_style='info', description='Progress:', layout=Layout(height='25px', width='50%'),…"
      ]
     },
     "metadata": {},
     "output_type": "display_data"
    },
    {
     "name": "stdout",
     "output_type": "stream",
     "text": [
      "+----------------+-----+--------------------+---------+-----+\n",
      "|      avg(stars)|stars|                name|     city|state|\n",
      "+----------------+-----+--------------------+---------+-----+\n",
      "|4.11784140969163|  4.0|Delmonico Steakhouse|Las Vegas|   NV|\n",
      "|             4.5|  4.5|Mr. Pancho Mexica...|     Mesa|   AZ|\n",
      "|            3.75|  4.0|Maricopa County D...|  Phoenix|   AZ|\n",
      "|             4.0|  4.0|Double Play Sport...|Las Vegas|   NV|\n",
      "|          2.6875|  2.5|  Impressions Dental| Chandler|   AZ|\n",
      "+----------------+-----+--------------------+---------+-----+\n",
      "only showing top 5 rows"
     ]
    }
   ],
   "source": [
    "business.select('avg(stars)', 'stars', 'name', 'city', 'state').show(5)"
   ]
  },
  {
   "cell_type": "markdown",
   "metadata": {},
   "source": [
    "Compute a new dataframe that calculates what we will call the _skew_ (for lack of a better word) between the avg stars accumulated from written reviews and the _actual_ star rating of a business (ie: the average of stars given by reviewers who wrote an actual review **and** reviewers who just provided a star rating).\n",
    "\n",
    "The formula you can use is something like:\n",
    "\n",
    "```\n",
    "(row['avg(stars)'] - row['stars']) / row['stars']\n",
    "```\n",
    "\n",
    "If the **skew** is negative, we can interpret that to be: reviewers who left a written response were more dissatisfied than normal. If **skew** is positive, we can interpret that to be: reviewers who left a written response were more satisfied than normal."
   ]
  },
  {
   "cell_type": "code",
   "execution_count": 19,
   "metadata": {},
   "outputs": [
    {
     "data": {
      "application/vnd.jupyter.widget-view+json": {
       "model_id": "2e917f36c3be4d7bbc4033a5c3b971f8",
       "version_major": 2,
       "version_minor": 0
      },
      "text/plain": [
       "VBox()"
      ]
     },
     "metadata": {},
     "output_type": "display_data"
    },
    {
     "data": {
      "application/vnd.jupyter.widget-view+json": {
       "model_id": "",
       "version_major": 2,
       "version_minor": 0
      },
      "text/plain": [
       "FloatProgress(value=0.0, bar_style='info', description='Progress:', layout=Layout(height='25px', width='50%'),…"
      ]
     },
     "metadata": {},
     "output_type": "display_data"
    },
    {
     "name": "stdout",
     "output_type": "stream",
     "text": [
      "+------------------+-----+--------------------+----------+-----+--------------------+\n",
      "|        avg(stars)|stars|                name|      city|state|                skew|\n",
      "+------------------+-----+--------------------+----------+-----+--------------------+\n",
      "|  4.11784140969163|  4.0|Delmonico Steakhouse| Las Vegas|   NV|0.029460352422907565|\n",
      "|               4.5|  4.5|Mr. Pancho Mexica...|      Mesa|   AZ|                 0.0|\n",
      "|              3.75|  4.0|Maricopa County D...|   Phoenix|   AZ|             -0.0625|\n",
      "|               4.0|  4.0|Double Play Sport...| Las Vegas|   NV|                 0.0|\n",
      "|            2.6875|  2.5|  Impressions Dental|  Chandler|   AZ|               0.075|\n",
      "| 4.976744186046512|  5.0|   Kidz Cuts By Lori| Henderson|   NV|-0.00465116279069...|\n",
      "|3.8107142857142855|  4.0|Río Mirage Café y...| El Mirage|   AZ|-0.04732142857142...|\n",
      "|3.7941176470588234|  4.0|   Steep & Brew West|   Madison|   WI|-0.05147058823529416|\n",
      "|1.4762931034482758|  1.5|      Showtime Tours| Las Vegas|   NV|-0.01580459770114...|\n",
      "|               2.0|  2.0|August Moon Chine...|Woodbridge|   ON|                 0.0|\n",
      "+------------------+-----+--------------------+----------+-----+--------------------+\n",
      "only showing top 10 rows"
     ]
    }
   ],
   "source": [
    "skew_df = business.select('avg(stars)', 'stars', 'name', 'city', 'state').withColumn('skew', (col('avg(stars)') - col('stars')) / col('stars'))\n",
    "skew_df.show(10)"
   ]
  },
  {
   "cell_type": "markdown",
   "metadata": {},
   "source": [
    "And finally, graph it!"
   ]
  },
  {
   "cell_type": "code",
   "execution_count": 20,
   "metadata": {},
   "outputs": [
    {
     "data": {
      "application/vnd.jupyter.widget-view+json": {
       "model_id": "cb88579fcfce41a39b7350df7015f039",
       "version_major": 2,
       "version_minor": 0
      },
      "text/plain": [
       "VBox()"
      ]
     },
     "metadata": {},
     "output_type": "display_data"
    },
    {
     "data": {
      "application/vnd.jupyter.widget-view+json": {
       "model_id": "",
       "version_major": 2,
       "version_minor": 0
      },
      "text/plain": [
       "FloatProgress(value=0.0, bar_style='info', description='Progress:', layout=Layout(height='25px', width='50%'),…"
      ]
     },
     "metadata": {},
     "output_type": "display_data"
    },
    {
     "data": {
      "image/png": "[encoded data removed]",
      "text/plain": [
       "<IPython.core.display.Image object>"
      ]
     },
     "metadata": {},
     "output_type": "display_data"
    }
   ],
   "source": [
    "pd_skew = skew_df.toPandas()\n",
    "fig = plt.figure(figsize=(12,5))\n",
    "ax = sns.distplot(pd_skew['skew'], hist=True, kde=True, color = 'lightblue').set_title('Skew Distribution')\n",
    "plt.show()\n",
    "%matplot plt"
   ]
  },
  {
   "cell_type": "markdown",
   "metadata": {},
   "source": [
    "So, do Yelp (written) Reviews skew negative? Does this analysis actually prove anything? Expound on implications / interpretations of this graph. "
   ]
  },
  {
   "cell_type": "markdown",
   "metadata": {},
   "source": [
    "From this distribution, we can see that the Yelp reviews are skewed to the left. If the skew number is 0, it means that the reviews are neutral and not skewed. However, there are many more reviews with negative skew numbers. Thus, reviewers who left a written response were more dissatisfied than normal"
   ]
  },
  {
   "cell_type": "markdown",
   "metadata": {},
   "source": [
    "# Should the Elite be Trusted? (Or, some other analysis of your choice)"
   ]
  },
  {
   "cell_type": "markdown",
   "metadata": {},
   "source": [
    "For the final portion - you have a choice:\n",
    "\n",
    "* Try and analyze some interesting dimension to this data. The **ONLY** requirement is that you must use the **Users** dataset and join on either the **business* or **reviews** dataset\n",
    "* Or, you may try and answer the question posed: how accurate or close are the ratings of an \"elite\" user (check Users table schema) vs the actual business rating.\n",
    "\n",
    "Feel free to use any and all methodologies at your disposal - only requirement is you must render one visualization in your analysis"
   ]
  },
  {
   "cell_type": "code",
   "execution_count": 21,
   "metadata": {},
   "outputs": [
    {
     "data": {
      "application/vnd.jupyter.widget-view+json": {
       "model_id": "a65fca87c28b4232b87cb861c5401b17",
       "version_major": 2,
       "version_minor": 0
      },
      "text/plain": [
       "VBox()"
      ]
     },
     "metadata": {},
     "output_type": "display_data"
    },
    {
     "data": {
      "application/vnd.jupyter.widget-view+json": {
       "model_id": "",
       "version_major": 2,
       "version_minor": 0
      },
      "text/plain": [
       "FloatProgress(value=0.0, bar_style='info', description='Progress:', layout=Layout(height='25px', width='50%'),…"
      ]
     },
     "metadata": {},
     "output_type": "display_data"
    },
    {
     "name": "stdout",
     "output_type": "stream",
     "text": [
      "root\n",
      " |-- average_stars: double (nullable = true)\n",
      " |-- compliment_cool: long (nullable = true)\n",
      " |-- compliment_cute: long (nullable = true)\n",
      " |-- compliment_funny: long (nullable = true)\n",
      " |-- compliment_hot: long (nullable = true)\n",
      " |-- compliment_list: long (nullable = true)\n",
      " |-- compliment_more: long (nullable = true)\n",
      " |-- compliment_note: long (nullable = true)\n",
      " |-- compliment_photos: long (nullable = true)\n",
      " |-- compliment_plain: long (nullable = true)\n",
      " |-- compliment_profile: long (nullable = true)\n",
      " |-- compliment_writer: long (nullable = true)\n",
      " |-- cool: long (nullable = true)\n",
      " |-- elite: string (nullable = true)\n",
      " |-- fans: long (nullable = true)\n",
      " |-- friends: string (nullable = true)\n",
      " |-- funny: long (nullable = true)\n",
      " |-- name: string (nullable = true)\n",
      " |-- review_count: long (nullable = true)\n",
      " |-- useful: long (nullable = true)\n",
      " |-- user_id: string (nullable = true)\n",
      " |-- yelping_since: string (nullable = true)"
     ]
    }
   ],
   "source": [
    "user = spark.read.json('s3://sta9760-project2-yelpdataset/yelp_academic_dataset_user.json')\n",
    "user.printSchema()"
   ]
  },
  {
   "cell_type": "code",
   "execution_count": 22,
   "metadata": {},
   "outputs": [
    {
     "data": {
      "application/vnd.jupyter.widget-view+json": {
       "model_id": "1304d88cb01e47848b3a0a40dc8b1768",
       "version_major": 2,
       "version_minor": 0
      },
      "text/plain": [
       "VBox()"
      ]
     },
     "metadata": {},
     "output_type": "display_data"
    },
    {
     "data": {
      "application/vnd.jupyter.widget-view+json": {
       "model_id": "",
       "version_major": 2,
       "version_minor": 0
      },
      "text/plain": [
       "FloatProgress(value=0.0, bar_style='info', description='Progress:', layout=Layout(height='25px', width='50%'),…"
      ]
     },
     "metadata": {},
     "output_type": "display_data"
    },
    {
     "name": "stdout",
     "output_type": "stream",
     "text": [
      "+----------------------+-------------+--------------------------------------------+\n",
      "|user_id               |average_stars|elite                                       |\n",
      "+----------------------+-------------+--------------------------------------------+\n",
      "|ntlvfPzc8eglqvk92iDIAw|3.57         |                                            |\n",
      "|FOBRPlBHa3WPHFB5qYDlVg|3.84         |2008,2009,2010,2011,2012,2013               |\n",
      "|zZUnPeh2hEp0WydbAZEOOg|3.44         |2010                                        |\n",
      "|QaELAmRcDc5TfJEylaaP8g|3.08         |2009                                        |\n",
      "|xvu8G900tezTzbbfqmTKvA|4.37         |2009,2010,2011,2012,2014,2015,2016,2017,2018|\n",
      "+----------------------+-------------+--------------------------------------------+\n",
      "only showing top 5 rows"
     ]
    }
   ],
   "source": [
    "user.select('user_id', 'average_stars', 'elite').show(5, truncate=False)"
   ]
  },
  {
   "cell_type": "markdown",
   "metadata": {},
   "source": [
    "### Create the elite user subset from the total user dataset"
   ]
  },
  {
   "cell_type": "code",
   "execution_count": 23,
   "metadata": {},
   "outputs": [
    {
     "data": {
      "application/vnd.jupyter.widget-view+json": {
       "model_id": "f1a93d3d351c4be1be014f62b72e9640",
       "version_major": 2,
       "version_minor": 0
      },
      "text/plain": [
       "VBox()"
      ]
     },
     "metadata": {},
     "output_type": "display_data"
    },
    {
     "data": {
      "application/vnd.jupyter.widget-view+json": {
       "model_id": "",
       "version_major": 2,
       "version_minor": 0
      },
      "text/plain": [
       "FloatProgress(value=0.0, bar_style='info', description='Progress:', layout=Layout(height='25px', width='50%'),…"
      ]
     },
     "metadata": {},
     "output_type": "display_data"
    },
    {
     "name": "stdout",
     "output_type": "stream",
     "text": [
      "+----------------------+-------------+--------------------------------------------+---------------+\n",
      "|user_id               |average_stars|elite                                       |length_of_elite|\n",
      "+----------------------+-------------+--------------------------------------------+---------------+\n",
      "|ntlvfPzc8eglqvk92iDIAw|3.57         |                                            |0              |\n",
      "|FOBRPlBHa3WPHFB5qYDlVg|3.84         |2008,2009,2010,2011,2012,2013               |29             |\n",
      "|zZUnPeh2hEp0WydbAZEOOg|3.44         |2010                                        |4              |\n",
      "|QaELAmRcDc5TfJEylaaP8g|3.08         |2009                                        |4              |\n",
      "|xvu8G900tezTzbbfqmTKvA|4.37         |2009,2010,2011,2012,2014,2015,2016,2017,2018|44             |\n",
      "|z5_82komKV3mI4ASGe2-FQ|2.88         |2007                                        |4              |\n",
      "|ttumcu6hWshk_EJVWrduDg|4.0          |                                            |0              |\n",
      "|f4_MRNHvN-yRn7EA8YWRxg|3.63         |2011,2012,2013,2014,2015,2016,2017,2018     |39             |\n",
      "|UYACF30806j2mfbB5vdmJA|3.75         |                                            |0              |\n",
      "|QG13XBbgHWydzThRBGJtyw|4.1          |2008,2009                                   |9              |\n",
      "|f6YuZP6iennHFVlnFJOXLQ|3.8          |                                            |0              |\n",
      "|I_6wY8_RsewziNnKhGZg4g|3.63         |2010,2011,2012,2013,2014,2015,2016,2017     |39             |\n",
      "|q-v8elVPvKz0KvK69QSj1Q|3.37         |2011,2012,2013,2014,2015,2016,2017,2018     |39             |\n",
      "|HwPGLzF_uXB3MF8bc5u5dg|4.5          |                                            |0              |\n",
      "|y4UuVowA9i3zj2hHyRMfHw|4.17         |                                            |0              |\n",
      "|1WBxJ2r3A2QYfRSEzgcmkQ|3.82         |2010,2011,2012,2013,2014,2015,2016          |34             |\n",
      "|-TT5e-YQU9xLb1JAGCGkQw|3.91         |2010,2011,2012,2013                         |19             |\n",
      "|6bbHSJ0PrgSxh7e5nigKMw|2.21         |                                            |0              |\n",
      "|4VmuXuSRhv5UxYUy3tMpiQ|3.88         |2012,2013                                   |9              |\n",
      "|pVU2DdtBFppBAX5G5t3rcw|3.79         |                                            |0              |\n",
      "+----------------------+-------------+--------------------------------------------+---------------+\n",
      "only showing top 20 rows\n",
      "\n",
      "1968703"
     ]
    }
   ],
   "source": [
    "import pyspark.sql.functions as F\n",
    "df = user.select('user_id', 'average_stars', 'elite').withColumn(\"length_of_elite\", F.length(\"elite\"))\n",
    "df.show(truncate=False)\n",
    "df.count()"
   ]
  },
  {
   "cell_type": "markdown",
   "metadata": {},
   "source": [
    "In total, there are 1968703 users in this dataset."
   ]
  },
  {
   "cell_type": "code",
   "execution_count": 24,
   "metadata": {},
   "outputs": [
    {
     "data": {
      "application/vnd.jupyter.widget-view+json": {
       "model_id": "9c4ad6055afa4261a3bec444d60c1538",
       "version_major": 2,
       "version_minor": 0
      },
      "text/plain": [
       "VBox()"
      ]
     },
     "metadata": {},
     "output_type": "display_data"
    },
    {
     "data": {
      "application/vnd.jupyter.widget-view+json": {
       "model_id": "",
       "version_major": 2,
       "version_minor": 0
      },
      "text/plain": [
       "FloatProgress(value=0.0, bar_style='info', description='Progress:', layout=Layout(height='25px', width='50%'),…"
      ]
     },
     "metadata": {},
     "output_type": "display_data"
    },
    {
     "name": "stdout",
     "output_type": "stream",
     "text": [
      "75961"
     ]
    }
   ],
   "source": [
    "elite = user.select('user_id', 'elite').where(length(col(\"elite\")) > 0)\n",
    "elite.count()"
   ]
  },
  {
   "cell_type": "markdown",
   "metadata": {},
   "source": [
    "There is a total of 75961 elite users throughout the years in this dataset. <br>\n",
    "### Join elite user dataset with review dataset on user_id to find out the reviews they have submitted:"
   ]
  },
  {
   "cell_type": "code",
   "execution_count": 25,
   "metadata": {},
   "outputs": [
    {
     "data": {
      "application/vnd.jupyter.widget-view+json": {
       "model_id": "e0bce12653674bf88319401a5004930e",
       "version_major": 2,
       "version_minor": 0
      },
      "text/plain": [
       "VBox()"
      ]
     },
     "metadata": {},
     "output_type": "display_data"
    },
    {
     "data": {
      "application/vnd.jupyter.widget-view+json": {
       "model_id": "",
       "version_major": 2,
       "version_minor": 0
      },
      "text/plain": [
       "FloatProgress(value=0.0, bar_style='info', description='Progress:', layout=Layout(height='25px', width='50%'),…"
      ]
     },
     "metadata": {},
     "output_type": "display_data"
    },
    {
     "name": "stdout",
     "output_type": "stream",
     "text": [
      "+--------------------+--------------------+--------------------+-----+\n",
      "|         business_id|             user_id|           review_id|stars|\n",
      "+--------------------+--------------------+--------------------+-----+\n",
      "|-8F04F54iDT6VgWPC...|1Dul59QEe-Q-7OQHT...|Kg5ncegiJ3utWRxDt...|  4.0|\n",
      "|p2OOk46G_AOO0nCWl...|3pMczoCBOSKBcqMhV...|nBNDv9j_tiPPo5MMe...|  5.0|\n",
      "|jyFoxS8MofdpkAAK6...|jO44Apni7iJZVVK4H...|EI6L-L0Dcj6HAUaBO...|  1.0|\n",
      "|ewty6EB70nwPJsUkA...|RO78oDy7vbEcOJU8a...|Ryohf9HJcpk2C49vf...|  4.0|\n",
      "|0M3KCmdY-_xlIu5vE...|TFxeEvpjMNQ3AWL49...|Lc0Tj-Me2Jwu_V9au...|  5.0|\n",
      "|-h0o-BilkKaCa7HX9...|Fl1oTs6usaCfyjLnY...|GORTMUfkTtGViv4ap...|  5.0|\n",
      "|DEtOIjhV0MWZ8fD8-...|RO78oDy7vbEcOJU8a...|aULkXMFrsMvctmJ5Q...|  5.0|\n",
      "|Jt28TYWanzKrJYYr0...|LEr8vS6PRymCg-SJH...|JfNrW6b2mgcynJ3w2...|  2.0|\n",
      "|NFm869_w6cvVaWaNp...|M7vDDzoPNQDN2FdTc...|OcaQAzflKbxKLS2rT...|  5.0|\n",
      "|Da6eZFThE9xanUAGN...|Ania9MCwET-TBzVjV...|wuNIHeqK_pjpE4Hrp...|  4.0|\n",
      "+--------------------+--------------------+--------------------+-----+\n",
      "only showing top 10 rows"
     ]
    }
   ],
   "source": [
    "elite_reviews = elite.join(review, 'user_id', 'inner')\n",
    "elite_reviews.select('business_id', 'user_id', 'review_id', 'stars').show(10)"
   ]
  },
  {
   "cell_type": "markdown",
   "metadata": {},
   "source": [
    "### Calculate sum of elite user ratings each business received:"
   ]
  },
  {
   "cell_type": "code",
   "execution_count": 26,
   "metadata": {},
   "outputs": [
    {
     "data": {
      "application/vnd.jupyter.widget-view+json": {
       "model_id": "ac035adff3e04c36a83595872ce12fa4",
       "version_major": 2,
       "version_minor": 0
      },
      "text/plain": [
       "VBox()"
      ]
     },
     "metadata": {},
     "output_type": "display_data"
    },
    {
     "data": {
      "application/vnd.jupyter.widget-view+json": {
       "model_id": "",
       "version_major": 2,
       "version_minor": 0
      },
      "text/plain": [
       "FloatProgress(value=0.0, bar_style='info', description='Progress:', layout=Layout(height='25px', width='50%'),…"
      ]
     },
     "metadata": {},
     "output_type": "display_data"
    },
    {
     "name": "stdout",
     "output_type": "stream",
     "text": [
      "+--------------------+-------------+\n",
      "|         business_id|ereview_count|\n",
      "+--------------------+-------------+\n",
      "|VHsNB3pdGVcRgs6C3...|           25|\n",
      "|-I06hkMFrX0KBqu61...|            1|\n",
      "|RMjCnixEY5i12Ciqn...|           26|\n",
      "|ipFreSFhjClfNETuM...|           17|\n",
      "|Qm2datcYBPXrPATVG...|            3|\n",
      "+--------------------+-------------+\n",
      "only showing top 5 rows"
     ]
    }
   ],
   "source": [
    "ereview_count_by_business = elite_reviews.select('business_id', 'user_id', 'review_id', 'stars').groupby('business_id').count()\n",
    "ereview_count_by_business = ereview_count_by_business.withColumnRenamed(\"count\",\"ereview_count\")\n",
    "ereview_count_by_business.show(5)"
   ]
  },
  {
   "cell_type": "markdown",
   "metadata": {},
   "source": [
    "### Calculate the average elite rating each business received:"
   ]
  },
  {
   "cell_type": "code",
   "execution_count": 27,
   "metadata": {},
   "outputs": [
    {
     "data": {
      "application/vnd.jupyter.widget-view+json": {
       "model_id": "1e99de8c2dae4f88818c67cc6ef0a623",
       "version_major": 2,
       "version_minor": 0
      },
      "text/plain": [
       "VBox()"
      ]
     },
     "metadata": {},
     "output_type": "display_data"
    },
    {
     "data": {
      "application/vnd.jupyter.widget-view+json": {
       "model_id": "",
       "version_major": 2,
       "version_minor": 0
      },
      "text/plain": [
       "FloatProgress(value=0.0, bar_style='info', description='Progress:', layout=Layout(height='25px', width='50%'),…"
      ]
     },
     "metadata": {},
     "output_type": "display_data"
    },
    {
     "name": "stdout",
     "output_type": "stream",
     "text": [
      "+--------------------+------------------+-------------+\n",
      "|         business_id|       avg_e_stars|ereview_count|\n",
      "+--------------------+------------------+-------------+\n",
      "|--9e1ONYQuAa-CB_R...|4.1916058394160585|          548|\n",
      "|--phjqoPSPa8sLmUV...|               4.0|            4|\n",
      "|--q7kSBRb0vWC8lSk...|               4.0|            1|\n",
      "|-0ZO00Vm2ADchytlE...|               5.0|            8|\n",
      "|-1VaIJza42Hjev6uk...| 3.793103448275862|           29|\n",
      "+--------------------+------------------+-------------+\n",
      "only showing top 5 rows"
     ]
    }
   ],
   "source": [
    "avg_reviews_by_elite = elite_reviews.select('business_id', 'user_id', 'review_id', 'stars').groupby('business_id').avg('stars')\n",
    "avg_reviews_by_elite = avg_reviews_by_elite.withColumnRenamed(\"avg(stars)\",\"avg_e_stars\")\n",
    "avg_reviews_by_elite = avg_reviews_by_elite.join(ereview_count_by_business, 'business_id', 'inner')\n",
    "avg_reviews_by_elite.show(5)"
   ]
  },
  {
   "cell_type": "markdown",
   "metadata": {},
   "source": [
    "### Join the average elite stars dataset with the business dataset: "
   ]
  },
  {
   "cell_type": "code",
   "execution_count": 28,
   "metadata": {},
   "outputs": [
    {
     "data": {
      "application/vnd.jupyter.widget-view+json": {
       "model_id": "fa278a80846e4fb4a8604f4e61c5c9d2",
       "version_major": 2,
       "version_minor": 0
      },
      "text/plain": [
       "VBox()"
      ]
     },
     "metadata": {},
     "output_type": "display_data"
    },
    {
     "data": {
      "application/vnd.jupyter.widget-view+json": {
       "model_id": "",
       "version_major": 2,
       "version_minor": 0
      },
      "text/plain": [
       "FloatProgress(value=0.0, bar_style='info', description='Progress:', layout=Layout(height='25px', width='50%'),…"
      ]
     },
     "metadata": {},
     "output_type": "display_data"
    },
    {
     "name": "stdout",
     "output_type": "stream",
     "text": [
      "+--------------------+-----+------------------+-------------+\n",
      "|         business_id|stars|       avg_e_stars|ereview_count|\n",
      "+--------------------+-----+------------------+-------------+\n",
      "|--9e1ONYQuAa-CB_R...|  4.0|4.1916058394160585|          548|\n",
      "|--phjqoPSPa8sLmUV...|  4.0|               4.0|            4|\n",
      "|--q7kSBRb0vWC8lSk...|  4.0|               4.0|            1|\n",
      "|-0ZO00Vm2ADchytlE...|  5.0|               5.0|            8|\n",
      "|-1VaIJza42Hjev6uk...|  4.0| 3.793103448275862|           29|\n",
      "+--------------------+-----+------------------+-------------+\n",
      "only showing top 5 rows"
     ]
    }
   ],
   "source": [
    "avg_reviews_by_elite = avg_reviews_by_elite.join(business, 'business_id', 'inner')\n",
    "avg_reviews = avg_reviews_by_elite.select('business_id', 'stars', 'avg_e_stars', 'ereview_count')\n",
    "avg_reviews.show(5)"
   ]
  },
  {
   "cell_type": "markdown",
   "metadata": {},
   "source": [
    "### Calculate sum of all user ratings each business received:"
   ]
  },
  {
   "cell_type": "code",
   "execution_count": 29,
   "metadata": {},
   "outputs": [
    {
     "data": {
      "application/vnd.jupyter.widget-view+json": {
       "model_id": "7a01fcb75d094de3a13d5d0aa8bda010",
       "version_major": 2,
       "version_minor": 0
      },
      "text/plain": [
       "VBox()"
      ]
     },
     "metadata": {},
     "output_type": "display_data"
    },
    {
     "data": {
      "application/vnd.jupyter.widget-view+json": {
       "model_id": "",
       "version_major": 2,
       "version_minor": 0
      },
      "text/plain": [
       "FloatProgress(value=0.0, bar_style='info', description='Progress:', layout=Layout(height='25px', width='50%'),…"
      ]
     },
     "metadata": {},
     "output_type": "display_data"
    },
    {
     "name": "stdout",
     "output_type": "stream",
     "text": [
      "+--------------------+---------------+\n",
      "|         business_id|allreview_count|\n",
      "+--------------------+---------------+\n",
      "|VHsNB3pdGVcRgs6C3...|            136|\n",
      "|RMjCnixEY5i12Ciqn...|             79|\n",
      "|ipFreSFhjClfNETuM...|             80|\n",
      "|dLDMU8bOLnkDTmPUr...|             35|\n",
      "|Qm2datcYBPXrPATVG...|             17|\n",
      "+--------------------+---------------+\n",
      "only showing top 5 rows"
     ]
    }
   ],
   "source": [
    "allreview_count_by_business = review.groupby('business_id').count()\n",
    "allreview_count_by_business = allreview_count_by_business.withColumnRenamed(\"count\",\"allreview_count\")\n",
    "allreview_count_by_business.show(5)"
   ]
  },
  {
   "cell_type": "markdown",
   "metadata": {},
   "source": [
    "### Joining all rating data together:"
   ]
  },
  {
   "cell_type": "code",
   "execution_count": 30,
   "metadata": {
    "scrolled": true
   },
   "outputs": [
    {
     "data": {
      "application/vnd.jupyter.widget-view+json": {
       "model_id": "73ef422301d5402789de3a8632cf8499",
       "version_major": 2,
       "version_minor": 0
      },
      "text/plain": [
       "VBox()"
      ]
     },
     "metadata": {},
     "output_type": "display_data"
    },
    {
     "data": {
      "application/vnd.jupyter.widget-view+json": {
       "model_id": "",
       "version_major": 2,
       "version_minor": 0
      },
      "text/plain": [
       "FloatProgress(value=0.0, bar_style='info', description='Progress:', layout=Layout(height='25px', width='50%'),…"
      ]
     },
     "metadata": {},
     "output_type": "display_data"
    },
    {
     "name": "stdout",
     "output_type": "stream",
     "text": [
      "+--------------------+-----+------------------+-------------+---------------+\n",
      "|         business_id|stars|       avg_e_stars|ereview_count|allreview_count|\n",
      "+--------------------+-----+------------------+-------------+---------------+\n",
      "|--9e1ONYQuAa-CB_R...|  4.0|4.1916058394160585|          548|           1816|\n",
      "|--phjqoPSPa8sLmUV...|  4.0|               4.0|            4|             12|\n",
      "|--q7kSBRb0vWC8lSk...|  4.0|               4.0|            1|              7|\n",
      "|-0ZO00Vm2ADchytlE...|  5.0|               5.0|            8|             86|\n",
      "|-1VaIJza42Hjev6uk...|  4.0| 3.793103448275862|           29|            280|\n",
      "+--------------------+-----+------------------+-------------+---------------+\n",
      "only showing top 5 rows"
     ]
    }
   ],
   "source": [
    "avg_reviews = avg_reviews.join(allreview_count_by_business, 'business_id', 'inner')\n",
    "avg_reviews.show(5)"
   ]
  },
  {
   "cell_type": "markdown",
   "metadata": {},
   "source": [
    "### Calculate the percentage of elite ratings each business received:"
   ]
  },
  {
   "cell_type": "code",
   "execution_count": 31,
   "metadata": {},
   "outputs": [
    {
     "data": {
      "application/vnd.jupyter.widget-view+json": {
       "model_id": "b2be52f65f8846b49fd1724c3346c66a",
       "version_major": 2,
       "version_minor": 0
      },
      "text/plain": [
       "VBox()"
      ]
     },
     "metadata": {},
     "output_type": "display_data"
    },
    {
     "data": {
      "application/vnd.jupyter.widget-view+json": {
       "model_id": "",
       "version_major": 2,
       "version_minor": 0
      },
      "text/plain": [
       "FloatProgress(value=0.0, bar_style='info', description='Progress:', layout=Layout(height='25px', width='50%'),…"
      ]
     },
     "metadata": {},
     "output_type": "display_data"
    },
    {
     "name": "stdout",
     "output_type": "stream",
     "text": [
      "+--------------------+---------+------------------+-------------+---------------+------------------+\n",
      "|         business_id|avg_stars|       avg_e_stars|ereview_count|allreview_count|  elite_percentage|\n",
      "+--------------------+---------+------------------+-------------+---------------+------------------+\n",
      "|--9e1ONYQuAa-CB_R...|      4.0|4.1916058394160585|          548|           1816|30.176211453744493|\n",
      "|--phjqoPSPa8sLmUV...|      4.0|               4.0|            4|             12| 33.33333333333333|\n",
      "|--q7kSBRb0vWC8lSk...|      4.0|               4.0|            1|              7|14.285714285714285|\n",
      "|-0ZO00Vm2ADchytlE...|      5.0|               5.0|            8|             86|  9.30232558139535|\n",
      "|-1VaIJza42Hjev6uk...|      4.0| 3.793103448275862|           29|            280|10.357142857142858|\n",
      "+--------------------+---------+------------------+-------------+---------------+------------------+\n",
      "only showing top 5 rows"
     ]
    }
   ],
   "source": [
    "avg_reviews = avg_reviews.withColumn('elite_percentage', (col('ereview_count') / col('allreview_count'))*100)\n",
    "avg_reviews = avg_reviews.withColumnRenamed(\"stars\",\"avg_stars\")\n",
    "avg_reviews.show(5)"
   ]
  },
  {
   "cell_type": "markdown",
   "metadata": {},
   "source": [
    "### Let's take a look at the top 25 businesses with the highest number of reviews"
   ]
  },
  {
   "cell_type": "code",
   "execution_count": 32,
   "metadata": {},
   "outputs": [
    {
     "data": {
      "application/vnd.jupyter.widget-view+json": {
       "model_id": "edc9fe72e83c47719172125c30119814",
       "version_major": 2,
       "version_minor": 0
      },
      "text/plain": [
       "VBox()"
      ]
     },
     "metadata": {},
     "output_type": "display_data"
    },
    {
     "data": {
      "application/vnd.jupyter.widget-view+json": {
       "model_id": "",
       "version_major": 2,
       "version_minor": 0
      },
      "text/plain": [
       "FloatProgress(value=0.0, bar_style='info', description='Progress:', layout=Layout(height='25px', width='50%'),…"
      ]
     },
     "metadata": {},
     "output_type": "display_data"
    },
    {
     "name": "stdout",
     "output_type": "stream",
     "text": [
      "+--------------------+---------+------------------+-------------+---------------+------------------+\n",
      "|         business_id|avg_stars|       avg_e_stars|ereview_count|allreview_count|  elite_percentage|\n",
      "+--------------------+---------+------------------+-------------+---------------+------------------+\n",
      "|RESDUcs7fIiihp38-...|      4.0| 4.060636515912898|         2985|          10417|28.655083037342806|\n",
      "|4JNXUYY8wbaaDmk3B...|      4.0|  4.13179992698065|         2739|           9536|28.722734899328863|\n",
      "|K7lWdNUhCbcnEvI0N...|      3.5|3.8233124308373294|         2711|           7594| 35.69923623913616|\n",
      "|f4x1YBxkLrZg652xt...|      4.0| 3.901702361339923|         1821|           6859| 26.54905962968363|\n",
      "|cYwJA2A6I12KNkm2r...|      4.0| 3.938221317040054|         1473|           5586| 26.36949516648765|\n",
      "|DkYS3arLOhA8si5uU...|      4.5|  4.27808988764045|         2492|           5370| 46.40595903165735|\n",
      "|faPVqws-x-5k2CQKD...|      4.5| 4.403796376186367|         1159|           4979|23.277766619803174|\n",
      "|5LNZ67Yw9RD6nf4_U...|      4.0| 4.263126131563066|         1657|           4973| 33.31992760908908|\n",
      "|2weQS-RnoOBhb1KsH...|      3.5| 3.819277108433735|         1826|           4953| 36.86654552796285|\n",
      "|iCQpiavjjPzJ5_3gP...|      4.0| 4.105722599418041|         2062|           4882| 42.23678820155674|\n",
      "|AV6weBrZFFBfRGCbc...|      2.5| 2.957685664939551|         1158|           4819|24.029881718198798|\n",
      "|vHz2RLtfUMVRPFmd7...|      4.5| 4.394230769230769|          728|           4801|15.163507602582795|\n",
      "|SMPbvZLSMMb7KU76Y...|      3.5| 3.845360824742268|         1455|           4749| 30.63802905874921|\n",
      "|ujHiaprwCQ5ewziu0...|      3.5| 3.616777308388654|         1657|           4731| 35.02430775734517|\n",
      "|El4FC8jcawUVgw_0E...|      3.0|3.4377713458755426|         1382|           4589|30.115493571584224|\n",
      "|QXV3L_QFGj8r6nWX2...|      4.5| 4.193423597678917|          517|           4357|11.865962818453065|\n",
      "|rcaPajgKOJC2vo_l3...|      4.0| 4.120710059171597|         1690|           4305|39.256678281068524|\n",
      "|JDZ6_yycNQFTpUZzL...|      4.5| 4.154639175257732|          388|           4225| 9.183431952662723|\n",
      "|OETh78qcgDltvHULo...|      4.0| 4.213844252163164|          809|           4217|19.184254209153426|\n",
      "|3kdSl5mo9dWC4clrQ...|      4.5| 4.297560975609756|          615|           4125|14.909090909090908|\n",
      "|YJ8ljUhLsz6CtT_2O...|      3.5|  3.62015503875969|          774|           4119|18.790968681718866|\n",
      "|KskYqH1Bi7Z_61pH6...|      4.0| 4.215588723051409|         1206|           4119|   29.278951201748|\n",
      "|RwMLuOkImBIqqYj4S...|      4.0| 4.294117647058823|         1020|           4088|24.951076320939332|\n",
      "|FaHADZARwnY4yvlvp...|      3.5| 3.411930673115679|         2481|           4064| 61.04822834645669|\n",
      "|u_vPjx925UPEG9DFO...|      2.5| 3.091928251121076|          892|           4024|22.166998011928428|\n",
      "+--------------------+---------+------------------+-------------+---------------+------------------+\n",
      "only showing top 25 rows"
     ]
    }
   ],
   "source": [
    "avg_reviews.orderBy('allreview_count', ascending=False).show(25)"
   ]
  },
  {
   "cell_type": "code",
   "execution_count": 33,
   "metadata": {},
   "outputs": [
    {
     "data": {
      "application/vnd.jupyter.widget-view+json": {
       "model_id": "7e73794a79a54b06a76ce6ef807908c2",
       "version_major": 2,
       "version_minor": 0
      },
      "text/plain": [
       "VBox()"
      ]
     },
     "metadata": {},
     "output_type": "display_data"
    },
    {
     "data": {
      "application/vnd.jupyter.widget-view+json": {
       "model_id": "",
       "version_major": 2,
       "version_minor": 0
      },
      "text/plain": [
       "FloatProgress(value=0.0, bar_style='info', description='Progress:', layout=Layout(height='25px', width='50%'),…"
      ]
     },
     "metadata": {},
     "output_type": "display_data"
    },
    {
     "name": "stdout",
     "output_type": "stream",
     "text": [
      "+-------+--------------------+-----------------+------------------+-----------------+------------------+------------------+\n",
      "|summary|         business_id|        avg_stars|       avg_e_stars|    ereview_count|   allreview_count|  elite_percentage|\n",
      "+-------+--------------------+-----------------+------------------+-----------------+------------------+------------------+\n",
      "|  count|              148225|           148225|            148225|           148225|            148225|            148225|\n",
      "|   mean|                null|3.571276775172879| 3.781229949617148|11.84906054983977|51.138910440209145|29.071736936940418|\n",
      "| stddev|                null|0.904201241413331|0.9734324285178444|41.04359275261798| 149.5476463476886| 19.78786142447515|\n",
      "|    min|--1UhMGODdWsrMast...|              1.0|               1.0|                1|                 3|0.5208333333333333|\n",
      "|    25%|                null|              3.0| 3.232142857142857|                1|                 6|14.285714285714285|\n",
      "|    50%|                null|              3.5|               4.0|                3|                15|              25.0|\n",
      "|    75%|                null|              4.0|               4.5|                9|                43| 38.83495145631068|\n",
      "|    max|zzzaIBwimxVej4tY6...|              5.0|               5.0|             2985|             10417|             100.0|\n",
      "+-------+--------------------+-----------------+------------------+-----------------+------------------+------------------+"
     ]
    }
   ],
   "source": [
    "avg_reviews.summary().show()"
   ]
  },
  {
   "cell_type": "markdown",
   "metadata": {},
   "source": [
    "* There are many businesses with very few reviews. We are going to filter them out and keep only businesses that have at least 25 total reviews. <br> \n",
    "* We also want to filter out businesses that have less than 5 elite reviews and also businesses where elite reviews account for less than 5% of total reviews. <br>\n",
    "* This way, we have quality data points to calculate the businesses' average reviews and average elite reviews. "
   ]
  },
  {
   "cell_type": "code",
   "execution_count": 34,
   "metadata": {},
   "outputs": [
    {
     "data": {
      "application/vnd.jupyter.widget-view+json": {
       "model_id": "cba9d268a2d0467583ac17ee1897f9e3",
       "version_major": 2,
       "version_minor": 0
      },
      "text/plain": [
       "VBox()"
      ]
     },
     "metadata": {},
     "output_type": "display_data"
    },
    {
     "data": {
      "application/vnd.jupyter.widget-view+json": {
       "model_id": "",
       "version_major": 2,
       "version_minor": 0
      },
      "text/plain": [
       "FloatProgress(value=0.0, bar_style='info', description='Progress:', layout=Layout(height='25px', width='50%'),…"
      ]
     },
     "metadata": {},
     "output_type": "display_data"
    }
   ],
   "source": [
    "avg_reviews = avg_reviews.where(col(\"allreview_count\") >= 25)\n",
    "avg_reviews = avg_reviews.where(col(\"ereview_count\") >= 5)\n",
    "avg_reviews = avg_reviews.where(col(\"elite_percentage\") >= 5)"
   ]
  },
  {
   "cell_type": "code",
   "execution_count": 35,
   "metadata": {},
   "outputs": [
    {
     "data": {
      "application/vnd.jupyter.widget-view+json": {
       "model_id": "95cf1700a1e84bea83d0c9ffbc6bab7d",
       "version_major": 2,
       "version_minor": 0
      },
      "text/plain": [
       "VBox()"
      ]
     },
     "metadata": {},
     "output_type": "display_data"
    },
    {
     "data": {
      "application/vnd.jupyter.widget-view+json": {
       "model_id": "",
       "version_major": 2,
       "version_minor": 0
      },
      "text/plain": [
       "FloatProgress(value=0.0, bar_style='info', description='Progress:', layout=Layout(height='25px', width='50%'),…"
      ]
     },
     "metadata": {},
     "output_type": "display_data"
    },
    {
     "name": "stdout",
     "output_type": "stream",
     "text": [
      "+-------+--------------------+------------------+------------------+-----------------+------------------+------------------+\n",
      "|summary|         business_id|         avg_stars|       avg_e_stars|    ereview_count|   allreview_count|  elite_percentage|\n",
      "+-------+--------------------+------------------+------------------+-----------------+------------------+------------------+\n",
      "|  count|               43291|             43291|             43291|            43291|             43291|             43291|\n",
      "|   mean|                null|3.6322561271395903| 3.781319959083377|33.84530271880991|139.58448638285094| 26.40005955217848|\n",
      "| stddev|                null|0.7020745673904851|0.5875925928795263| 71.2158803696474|253.57361456349582|13.860105184781096|\n",
      "|    min|--1UhMGODdWsrMast...|               1.0|               1.0|                5|                25|               5.0|\n",
      "|    25%|                null|               3.0|3.4166666666666665|                9|                42|            15.625|\n",
      "|    50%|                null|               3.5|3.8260869565217392|               17|                72| 23.88059701492537|\n",
      "|    75%|                null|               4.0| 4.186440677966102|               33|               140| 35.13513513513514|\n",
      "|    max|zzzaIBwimxVej4tY6...|               5.0|               5.0|             2985|             10417|            96.875|\n",
      "+-------+--------------------+------------------+------------------+-----------------+------------------+------------------+"
     ]
    }
   ],
   "source": [
    "avg_reviews.summary().show()"
   ]
  },
  {
   "cell_type": "markdown",
   "metadata": {},
   "source": [
    "Our dataset looks a lot better after some filtering and cleaning. "
   ]
  },
  {
   "cell_type": "code",
   "execution_count": 36,
   "metadata": {},
   "outputs": [
    {
     "data": {
      "application/vnd.jupyter.widget-view+json": {
       "model_id": "84c082b8834d47bb80b211aa0bfb4833",
       "version_major": 2,
       "version_minor": 0
      },
      "text/plain": [
       "VBox()"
      ]
     },
     "metadata": {},
     "output_type": "display_data"
    },
    {
     "data": {
      "application/vnd.jupyter.widget-view+json": {
       "model_id": "",
       "version_major": 2,
       "version_minor": 0
      },
      "text/plain": [
       "FloatProgress(value=0.0, bar_style='info', description='Progress:', layout=Layout(height='25px', width='50%'),…"
      ]
     },
     "metadata": {},
     "output_type": "display_data"
    },
    {
     "data": {
      "image/png": "[encoded data removed]",
      "text/plain": [
       "<IPython.core.display.Image object>"
      ]
     },
     "metadata": {},
     "output_type": "display_data"
    }
   ],
   "source": [
    "pd_avg_reviews = avg_reviews.toPandas()\n",
    "fig = plt.figure(figsize=(12,5))\n",
    "ax = sns.distplot(pd_avg_reviews['allreview_count'], hist=True, bins=100, kde=False).set_title('All Review Count Distribution')\n",
    "plt.xlabel(\"allreview_count\")\n",
    "plt.ylabel(\"frequency\")\n",
    "plt.show()\n",
    "%matplot plt"
   ]
  },
  {
   "cell_type": "code",
   "execution_count": 37,
   "metadata": {},
   "outputs": [
    {
     "data": {
      "application/vnd.jupyter.widget-view+json": {
       "model_id": "22c9dc1a02c342a9ac8604f44f09ac09",
       "version_major": 2,
       "version_minor": 0
      },
      "text/plain": [
       "VBox()"
      ]
     },
     "metadata": {},
     "output_type": "display_data"
    },
    {
     "data": {
      "application/vnd.jupyter.widget-view+json": {
       "model_id": "",
       "version_major": 2,
       "version_minor": 0
      },
      "text/plain": [
       "FloatProgress(value=0.0, bar_style='info', description='Progress:', layout=Layout(height='25px', width='50%'),…"
      ]
     },
     "metadata": {},
     "output_type": "display_data"
    },
    {
     "name": "stdout",
     "output_type": "stream",
     "text": [
      "0    25\n",
      "dtype: int64"
     ]
    }
   ],
   "source": [
    "pd_avg_reviews['allreview_count'].mode()"
   ]
  },
  {
   "cell_type": "code",
   "execution_count": 38,
   "metadata": {},
   "outputs": [
    {
     "data": {
      "application/vnd.jupyter.widget-view+json": {
       "model_id": "94d4c9456422498a990f8af40d42b3c3",
       "version_major": 2,
       "version_minor": 0
      },
      "text/plain": [
       "VBox()"
      ]
     },
     "metadata": {},
     "output_type": "display_data"
    },
    {
     "data": {
      "application/vnd.jupyter.widget-view+json": {
       "model_id": "",
       "version_major": 2,
       "version_minor": 0
      },
      "text/plain": [
       "FloatProgress(value=0.0, bar_style='info', description='Progress:', layout=Layout(height='25px', width='50%'),…"
      ]
     },
     "metadata": {},
     "output_type": "display_data"
    },
    {
     "data": {
      "image/png": "[encoded data removed]",
      "text/plain": [
       "<IPython.core.display.Image object>"
      ]
     },
     "metadata": {},
     "output_type": "display_data"
    }
   ],
   "source": [
    "fig = plt.figure(figsize=(12,5))\n",
    "ax = sns.distplot(pd_avg_reviews['ereview_count'], hist=True, bins=100, kde=False).set_title('Elite Review Count Distribution')\n",
    "plt.xlabel(\"ereview_count\")\n",
    "plt.ylabel(\"frequency\")\n",
    "plt.show()\n",
    "%matplot plt"
   ]
  },
  {
   "cell_type": "markdown",
   "metadata": {},
   "source": [
    "Let's take a look at the difference between average elite rating and average rating:"
   ]
  },
  {
   "cell_type": "code",
   "execution_count": 39,
   "metadata": {},
   "outputs": [
    {
     "data": {
      "application/vnd.jupyter.widget-view+json": {
       "model_id": "55891c416c10411ca5eb0b69b8bceea7",
       "version_major": 2,
       "version_minor": 0
      },
      "text/plain": [
       "VBox()"
      ]
     },
     "metadata": {},
     "output_type": "display_data"
    },
    {
     "data": {
      "application/vnd.jupyter.widget-view+json": {
       "model_id": "",
       "version_major": 2,
       "version_minor": 0
      },
      "text/plain": [
       "FloatProgress(value=0.0, bar_style='info', description='Progress:', layout=Layout(height='25px', width='50%'),…"
      ]
     },
     "metadata": {},
     "output_type": "display_data"
    },
    {
     "name": "stdout",
     "output_type": "stream",
     "text": [
      "+--------------------+---------+------------------+-------------+---------------+------------------+-------------------+\n",
      "|         business_id|avg_stars|       avg_e_stars|ereview_count|allreview_count|  elite_percentage|              delta|\n",
      "+--------------------+---------+------------------+-------------+---------------+------------------+-------------------+\n",
      "|--9e1ONYQuAa-CB_R...|      4.0|4.1916058394160585|          548|           1816|30.176211453744493|0.19160583941605847|\n",
      "|-0ZO00Vm2ADchytlE...|      5.0|               5.0|            8|             86|  9.30232558139535|                0.0|\n",
      "|-1VaIJza42Hjev6uk...|      4.0| 3.793103448275862|           29|            280|10.357142857142858|-0.2068965517241379|\n",
      "|-2Arz8twKJmxHMS3S...|      4.0|               3.7|           10|             34|29.411764705882355|-0.2999999999999998|\n",
      "|-2ToCaDFpTNmmg3QF...|      1.5|          2.109375|           64|            464|13.793103448275861|           0.609375|\n",
      "|-2wh_ZsD2n5xFYgzp...|      4.0|3.7058823529411766|           17|             34|              50.0|-0.2941176470588234|\n",
      "|-5NXoZeGBdx3Bdk70...|      4.0|               3.4|           10|             76|13.157894736842104|-0.6000000000000001|\n",
      "|-5__awbuGMHAk6cZg...|      3.0|2.4285714285714284|            7|             78| 8.974358974358974|-0.5714285714285716|\n",
      "|-ArzVOksIBWmtM1ey...|      4.5| 4.666666666666667|           12|             57|21.052631578947366|0.16666666666666696|\n",
      "|-BbnAc9YEO6pjvJGE...|      4.0|4.2342342342342345|          111|            270| 41.11111111111111| 0.2342342342342345|\n",
      "+--------------------+---------+------------------+-------------+---------------+------------------+-------------------+\n",
      "only showing top 10 rows"
     ]
    }
   ],
   "source": [
    "avg_reviews = avg_reviews.withColumn('delta', (col('avg_e_stars') - col('avg_stars')))\n",
    "avg_reviews.show(10)"
   ]
  },
  {
   "cell_type": "markdown",
   "metadata": {},
   "source": [
    "Now, let's look at the distribution of this delta:"
   ]
  },
  {
   "cell_type": "code",
   "execution_count": 40,
   "metadata": {},
   "outputs": [
    {
     "data": {
      "application/vnd.jupyter.widget-view+json": {
       "model_id": "7646269f7c4348b59c26ab33532e3120",
       "version_major": 2,
       "version_minor": 0
      },
      "text/plain": [
       "VBox()"
      ]
     },
     "metadata": {},
     "output_type": "display_data"
    },
    {
     "data": {
      "application/vnd.jupyter.widget-view+json": {
       "model_id": "",
       "version_major": 2,
       "version_minor": 0
      },
      "text/plain": [
       "FloatProgress(value=0.0, bar_style='info', description='Progress:', layout=Layout(height='25px', width='50%'),…"
      ]
     },
     "metadata": {},
     "output_type": "display_data"
    },
    {
     "data": {
      "image/png": "[encoded data removed]",
      "text/plain": [
       "<IPython.core.display.Image object>"
      ]
     },
     "metadata": {},
     "output_type": "display_data"
    }
   ],
   "source": [
    "pd_avg_reviews = avg_reviews.toPandas()\n",
    "fig = plt.figure(figsize=(12,5))\n",
    "ax = sns.distplot(pd_avg_reviews['delta'], hist=True, kde=False).set_title('Average Rating Difference Distribution')\n",
    "plt.xlabel(\"delta\")\n",
    "plt.ylabel(\"frequency\")\n",
    "plt.show()\n",
    "%matplot plt"
   ]
  },
  {
   "cell_type": "markdown",
   "metadata": {},
   "source": [
    "We see that the difference between average elite reviews and average total reviews is normally distributed. There might be some skewness to the right. We will first look at the summary of the distribution: "
   ]
  },
  {
   "cell_type": "code",
   "execution_count": 41,
   "metadata": {},
   "outputs": [
    {
     "data": {
      "application/vnd.jupyter.widget-view+json": {
       "model_id": "279d14834d7849108cbf10684e4d8f99",
       "version_major": 2,
       "version_minor": 0
      },
      "text/plain": [
       "VBox()"
      ]
     },
     "metadata": {},
     "output_type": "display_data"
    },
    {
     "data": {
      "application/vnd.jupyter.widget-view+json": {
       "model_id": "",
       "version_major": 2,
       "version_minor": 0
      },
      "text/plain": [
       "FloatProgress(value=0.0, bar_style='info', description='Progress:', layout=Layout(height='25px', width='50%'),…"
      ]
     },
     "metadata": {},
     "output_type": "display_data"
    },
    {
     "name": "stdout",
     "output_type": "stream",
     "text": [
      "+-------+--------------------+\n",
      "|summary|               delta|\n",
      "+-------+--------------------+\n",
      "|  count|               43291|\n",
      "|   mean|   0.149063831943786|\n",
      "| stddev| 0.42068188793625066|\n",
      "|    min| -2.2142857142857144|\n",
      "|    25%|-0.11538461538461542|\n",
      "|    50%| 0.11224489795918347|\n",
      "|    75%|               0.375|\n",
      "|    max|  3.0999999999999996|\n",
      "+-------+--------------------+"
     ]
    }
   ],
   "source": [
    "avg_reviews.select('delta').summary().show()"
   ]
  },
  {
   "cell_type": "markdown",
   "metadata": {},
   "source": [
    "From an initial glance, we see that the mean is around 0.15 which suggests that elite users give a rating of 0.15 stars higher than the average of total users' ratings. The standard deviation is 0.42 which suggests that we should perform a hypothesis test in order to statistically reject the null hypothesis (average rating of elite users equals the average rating of all users)."
   ]
  },
  {
   "cell_type": "markdown",
   "metadata": {},
   "source": [
    "### Hypothesis Testing\n",
    "#### 1. Determine a null and alternate hypothesis:\n",
    "* Null Hypothesis: Average rating of elite users and all users are the same <br>\n",
    "* Alternate Hypothesis: Average rating of elite users and all users are different\n",
    "\n",
    "#### 2. Sample size\n",
    "From the summary above of the dataset, the sample size for our test is 43291. (N = 43291)"
   ]
  },
  {
   "cell_type": "code",
   "execution_count": 42,
   "metadata": {},
   "outputs": [
    {
     "data": {
      "application/vnd.jupyter.widget-view+json": {
       "model_id": "54db6a081a204a418a0224a87b53f7c3",
       "version_major": 2,
       "version_minor": 0
      },
      "text/plain": [
       "VBox()"
      ]
     },
     "metadata": {},
     "output_type": "display_data"
    },
    {
     "data": {
      "application/vnd.jupyter.widget-view+json": {
       "model_id": "",
       "version_major": 2,
       "version_minor": 0
      },
      "text/plain": [
       "FloatProgress(value=0.0, bar_style='info', description='Progress:', layout=Layout(height='25px', width='50%'),…"
      ]
     },
     "metadata": {},
     "output_type": "display_data"
    }
   ],
   "source": [
    "N = 43291"
   ]
  },
  {
   "cell_type": "markdown",
   "metadata": {},
   "source": [
    "#### 3. Determine a confidence interval and degrees of freedom\n",
    "We select α = 0.05 - there is 95% confidence that the conclusion of this test will be valid. <br>\n",
    "Degree of freedom: <br>\n",
    "df = sample size (elite users) + sample size (all users) -2  = 43291 + 43291 - 2"
   ]
  },
  {
   "cell_type": "code",
   "execution_count": 43,
   "metadata": {},
   "outputs": [
    {
     "data": {
      "application/vnd.jupyter.widget-view+json": {
       "model_id": "7f276b054d364edf9128e662a39548b5",
       "version_major": 2,
       "version_minor": 0
      },
      "text/plain": [
       "VBox()"
      ]
     },
     "metadata": {},
     "output_type": "display_data"
    },
    {
     "data": {
      "application/vnd.jupyter.widget-view+json": {
       "model_id": "",
       "version_major": 2,
       "version_minor": 0
      },
      "text/plain": [
       "FloatProgress(value=0.0, bar_style='info', description='Progress:', layout=Layout(height='25px', width='50%'),…"
      ]
     },
     "metadata": {},
     "output_type": "display_data"
    }
   ],
   "source": [
    "degree_freedom = 2*avg_reviews.count() - 2"
   ]
  },
  {
   "cell_type": "code",
   "execution_count": 44,
   "metadata": {},
   "outputs": [
    {
     "data": {
      "application/vnd.jupyter.widget-view+json": {
       "model_id": "35ad0c36146f4c93aa4d3c3e3cccf65c",
       "version_major": 2,
       "version_minor": 0
      },
      "text/plain": [
       "VBox()"
      ]
     },
     "metadata": {},
     "output_type": "display_data"
    },
    {
     "data": {
      "application/vnd.jupyter.widget-view+json": {
       "model_id": "",
       "version_major": 2,
       "version_minor": 0
      },
      "text/plain": [
       "FloatProgress(value=0.0, bar_style='info', description='Progress:', layout=Layout(height='25px', width='50%'),…"
      ]
     },
     "metadata": {},
     "output_type": "display_data"
    },
    {
     "name": "stdout",
     "output_type": "stream",
     "text": [
      "86580"
     ]
    }
   ],
   "source": [
    "print(degree_freedom)"
   ]
  },
  {
   "cell_type": "markdown",
   "metadata": {},
   "source": [
    "#### 4. Calculate standard deviation\n",
    "##### Calculate the variance"
   ]
  },
  {
   "cell_type": "code",
   "execution_count": 45,
   "metadata": {},
   "outputs": [
    {
     "data": {
      "application/vnd.jupyter.widget-view+json": {
       "model_id": "e622075a57ae4b6bae49d49028cbfcd3",
       "version_major": 2,
       "version_minor": 0
      },
      "text/plain": [
       "VBox()"
      ]
     },
     "metadata": {},
     "output_type": "display_data"
    },
    {
     "data": {
      "application/vnd.jupyter.widget-view+json": {
       "model_id": "",
       "version_major": 2,
       "version_minor": 0
      },
      "text/plain": [
       "FloatProgress(value=0.0, bar_style='info', description='Progress:', layout=Layout(height='25px', width='50%'),…"
      ]
     },
     "metadata": {},
     "output_type": "display_data"
    }
   ],
   "source": [
    "from pyspark.sql.functions import var_samp\n",
    "var_elite = avg_reviews.select(var_samp(\"avg_e_stars\")).head()[0]\n",
    "var_all = avg_reviews.select(var_samp(\"avg_stars\")).head()[0]"
   ]
  },
  {
   "cell_type": "code",
   "execution_count": 46,
   "metadata": {},
   "outputs": [
    {
     "data": {
      "application/vnd.jupyter.widget-view+json": {
       "model_id": "55f6e9a3c68149c2bc045997a90f792d",
       "version_major": 2,
       "version_minor": 0
      },
      "text/plain": [
       "VBox()"
      ]
     },
     "metadata": {},
     "output_type": "display_data"
    },
    {
     "data": {
      "application/vnd.jupyter.widget-view+json": {
       "model_id": "",
       "version_major": 2,
       "version_minor": 0
      },
      "text/plain": [
       "FloatProgress(value=0.0, bar_style='info', description='Progress:', layout=Layout(height='25px', width='50%'),…"
      ]
     },
     "metadata": {},
     "output_type": "display_data"
    },
    {
     "name": "stdout",
     "output_type": "stream",
     "text": [
      "0.3452650552068847\n",
      "0.4929086981765366"
     ]
    }
   ],
   "source": [
    "print(var_elite)\n",
    "print(var_all)"
   ]
  },
  {
   "cell_type": "markdown",
   "metadata": {},
   "source": [
    "##### Calculate the standard deviation"
   ]
  },
  {
   "cell_type": "code",
   "execution_count": 47,
   "metadata": {},
   "outputs": [
    {
     "data": {
      "application/vnd.jupyter.widget-view+json": {
       "model_id": "264c5dc478ec48bc8d18e8f0b8677630",
       "version_major": 2,
       "version_minor": 0
      },
      "text/plain": [
       "VBox()"
      ]
     },
     "metadata": {},
     "output_type": "display_data"
    },
    {
     "data": {
      "application/vnd.jupyter.widget-view+json": {
       "model_id": "",
       "version_major": 2,
       "version_minor": 0
      },
      "text/plain": [
       "FloatProgress(value=0.0, bar_style='info', description='Progress:', layout=Layout(height='25px', width='50%'),…"
      ]
     },
     "metadata": {},
     "output_type": "display_data"
    },
    {
     "name": "stdout",
     "output_type": "stream",
     "text": [
      "0.6473691965885546"
     ]
    }
   ],
   "source": [
    "s = np.sqrt((var_elite + var_all)/2)\n",
    "print(s)"
   ]
  },
  {
   "cell_type": "markdown",
   "metadata": {},
   "source": [
    "#### 5. Calculate the t-statistics"
   ]
  },
  {
   "cell_type": "code",
   "execution_count": 48,
   "metadata": {},
   "outputs": [
    {
     "data": {
      "application/vnd.jupyter.widget-view+json": {
       "model_id": "b482a617eb4f4d8e90ad6b550574b163",
       "version_major": 2,
       "version_minor": 0
      },
      "text/plain": [
       "VBox()"
      ]
     },
     "metadata": {},
     "output_type": "display_data"
    },
    {
     "data": {
      "application/vnd.jupyter.widget-view+json": {
       "model_id": "",
       "version_major": 2,
       "version_minor": 0
      },
      "text/plain": [
       "FloatProgress(value=0.0, bar_style='info', description='Progress:', layout=Layout(height='25px', width='50%'),…"
      ]
     },
     "metadata": {},
     "output_type": "display_data"
    },
    {
     "name": "stdout",
     "output_type": "stream",
     "text": [
      "33.876931165656266"
     ]
    }
   ],
   "source": [
    "# From our statistic summary of dataset\n",
    "mean_elite = 3.781319959083376\n",
    "mean_all = 3.6322561271395903\n",
    "t = (mean_elite - mean_all)/(s*np.sqrt(2/N))\n",
    "print(t)"
   ]
  },
  {
   "cell_type": "markdown",
   "metadata": {},
   "source": [
    "#### 6. Compare with critical value\n",
    "##### p-value after comparison with t"
   ]
  },
  {
   "cell_type": "code",
   "execution_count": 49,
   "metadata": {},
   "outputs": [
    {
     "data": {
      "application/vnd.jupyter.widget-view+json": {
       "model_id": "c1a673841f7849f0b380676f31216ad6",
       "version_major": 2,
       "version_minor": 0
      },
      "text/plain": [
       "VBox()"
      ]
     },
     "metadata": {},
     "output_type": "display_data"
    },
    {
     "data": {
      "application/vnd.jupyter.widget-view+json": {
       "model_id": "",
       "version_major": 2,
       "version_minor": 0
      },
      "text/plain": [
       "FloatProgress(value=0.0, bar_style='info', description='Progress:', layout=Layout(height='25px', width='50%'),…"
      ]
     },
     "metadata": {},
     "output_type": "display_data"
    },
    {
     "name": "stdout",
     "output_type": "stream",
     "text": [
      "t = 33.876931165656266\n",
      "p = 0.0"
     ]
    }
   ],
   "source": [
    "p = 1 - stats.t.cdf(t,df=degree_freedom)\n",
    "print(\"t = \" + str(t))\n",
    "print(\"p = \" + str(2*p))"
   ]
  },
  {
   "cell_type": "markdown",
   "metadata": {},
   "source": [
    "After comparing the t statistic with the critical t value (using the stats module), we obtained a p value of 0.0. A p-value less than 0.05 (typically ≤ 0.05) is statistically significant. It indicates strong evidence against the null hypothesis, as there is less than a 5% probability the null is correct (and the results are random). \n",
    "\n",
    "##### Therefore, we reject the null hypothesis, and accept the alternative hypothesis. Thus, it proves that the average rating of elite users and all users are different and that the elite reviewers should not be trusted. \n"
   ]
  }
 ],
 "metadata": {
  "kernelspec": {
   "display_name": "PySpark",
   "language": "",
   "name": "pysparkkernel"
  },
  "language_info": {
   "codemirror_mode": {
    "name": "python",
    "version": 2
   },
   "mimetype": "text/x-python",
   "name": "pyspark",
   "pygments_lexer": "python2"
  }
 },
 "nbformat": 4,
 "nbformat_minor": 4
}
